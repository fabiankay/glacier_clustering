{
 "cells": [
  {
   "cell_type": "code",
   "execution_count": 34,
   "metadata": {
    "collapsed": true
   },
   "outputs": [],
   "source": [
    "from glacier_clustering.pipelines import merge_data\n",
    "import pandas as pd\n",
    "import numpy as np"
   ]
  },
  {
   "cell_type": "code",
   "execution_count": 260,
   "outputs": [
    {
     "name": "stdout",
     "output_type": "stream",
     "text": [
      "The kedro.ipython extension is already loaded. To reload it, use:\n",
      "  %reload_ext kedro.ipython\n"
     ]
    },
    {
     "data": {
      "text/plain": "\u001B[2;36m[01/02/23 20:46:54]\u001B[0m\u001B[2;36m \u001B[0m\u001B[34mINFO    \u001B[0m Kedro project clustering                                                \u001B]8;id=761648;file://C:\\Users\\fabia\\anaconda3\\envs\\glacier\\lib\\site-packages\\kedro\\framework\\session\\session.py\u001B\\\u001B[2msession.py\u001B[0m\u001B]8;;\u001B\\\u001B[2m:\u001B[0m\u001B]8;id=937924;file://C:\\Users\\fabia\\anaconda3\\envs\\glacier\\lib\\site-packages\\kedro\\framework\\session\\session.py#340\u001B\\\u001B[2m340\u001B[0m\u001B]8;;\u001B\\\n",
      "text/html": "<pre style=\"white-space:pre;overflow-x:auto;line-height:normal;font-family:Menlo,'DejaVu Sans Mono',consolas,'Courier New',monospace\"><span style=\"color: #7fbfbf; text-decoration-color: #7fbfbf\">[01/02/23 20:46:54] </span><span style=\"color: #000080; text-decoration-color: #000080\">INFO    </span> Kedro project clustering                                                <a href=\"file://C:\\Users\\fabia\\anaconda3\\envs\\glacier\\lib\\site-packages\\kedro\\framework\\session\\session.py\" target=\"_blank\"><span style=\"color: #7f7f7f; text-decoration-color: #7f7f7f\">session.py</span></a><span style=\"color: #7f7f7f; text-decoration-color: #7f7f7f\">:</span><a href=\"file://C:\\Users\\fabia\\anaconda3\\envs\\glacier\\lib\\site-packages\\kedro\\framework\\session\\session.py#340\" target=\"_blank\"><span style=\"color: #7f7f7f; text-decoration-color: #7f7f7f\">340</span></a>\n</pre>\n"
     },
     "metadata": {},
     "output_type": "display_data"
    },
    {
     "data": {
      "text/plain": "\u001B[31m╭─\u001B[0m\u001B[31m──────────────────────────────\u001B[0m\u001B[31m \u001B[0m\u001B[1;31mTraceback \u001B[0m\u001B[1;2;31m(most recent call last)\u001B[0m\u001B[31m \u001B[0m\u001B[31m───────────────────────────────\u001B[0m\u001B[31m─╮\u001B[0m\n\u001B[31m│\u001B[0m \u001B[33mC:\\Users\\fabia\\AppData\\Local\\Temp\\ipykernel_40356\\1338477363.py\u001B[0m:\u001B[94m2\u001B[0m in \u001B[92m<cell line: 2>\u001B[0m              \u001B[31m│\u001B[0m\n\u001B[31m│\u001B[0m                                                                                                  \u001B[31m│\u001B[0m\n\u001B[31m│\u001B[0m \u001B[3;31m[Errno 2] No such file or directory: \u001B[0m                                                            \u001B[31m│\u001B[0m\n\u001B[31m│\u001B[0m \u001B[3;31m'C:\\\\Users\\\\fabia\\\\AppData\\\\Local\\\\Temp\\\\ipykernel_40356\\\\1338477363.py'\u001B[0m                         \u001B[31m│\u001B[0m\n\u001B[31m│\u001B[0m                                                                                                  \u001B[31m│\u001B[0m\n\u001B[31m│\u001B[0m \u001B[33mC:\\Users\\fabia\\anaconda3\\envs\\glacier\\lib\\site-packages\\kedro\\framework\\session\\session.py\u001B[0m:\u001B[94m343\u001B[0m   \u001B[31m│\u001B[0m\n\u001B[31m│\u001B[0m in \u001B[92mrun\u001B[0m                                                                                           \u001B[31m│\u001B[0m\n\u001B[31m╰──────────────────────────────────────────────────────────────────────────────────────────────────╯\u001B[0m\n\u001B[1;91mKedroSessionError: \u001B[0mA run has already been completed as part of the active KedroSession. KedroSession has a \u001B[1;36m1\u001B[0m-\u001B[1;36m1\u001B[0m \nmapping with runs, and thus only one run should be executed per session.\n",
      "text/html": "<pre style=\"white-space:pre;overflow-x:auto;line-height:normal;font-family:Menlo,'DejaVu Sans Mono',consolas,'Courier New',monospace\"><span style=\"color: #800000; text-decoration-color: #800000\">╭─────────────────────────────── </span><span style=\"color: #800000; text-decoration-color: #800000; font-weight: bold\">Traceback </span><span style=\"color: #bf7f7f; text-decoration-color: #bf7f7f; font-weight: bold\">(most recent call last)</span><span style=\"color: #800000; text-decoration-color: #800000\"> ────────────────────────────────╮</span>\n<span style=\"color: #800000; text-decoration-color: #800000\">│</span> <span style=\"color: #808000; text-decoration-color: #808000\">C:\\Users\\fabia\\AppData\\Local\\Temp\\ipykernel_40356\\1338477363.py</span>:<span style=\"color: #0000ff; text-decoration-color: #0000ff\">2</span> in <span style=\"color: #00ff00; text-decoration-color: #00ff00\">&lt;cell line: 2&gt;</span>              <span style=\"color: #800000; text-decoration-color: #800000\">│</span>\n<span style=\"color: #800000; text-decoration-color: #800000\">│</span>                                                                                                  <span style=\"color: #800000; text-decoration-color: #800000\">│</span>\n<span style=\"color: #800000; text-decoration-color: #800000\">│</span> <span style=\"color: #800000; text-decoration-color: #800000; font-style: italic\">[Errno 2] No such file or directory: </span>                                                            <span style=\"color: #800000; text-decoration-color: #800000\">│</span>\n<span style=\"color: #800000; text-decoration-color: #800000\">│</span> <span style=\"color: #800000; text-decoration-color: #800000; font-style: italic\">'C:\\\\Users\\\\fabia\\\\AppData\\\\Local\\\\Temp\\\\ipykernel_40356\\\\1338477363.py'</span>                         <span style=\"color: #800000; text-decoration-color: #800000\">│</span>\n<span style=\"color: #800000; text-decoration-color: #800000\">│</span>                                                                                                  <span style=\"color: #800000; text-decoration-color: #800000\">│</span>\n<span style=\"color: #800000; text-decoration-color: #800000\">│</span> <span style=\"color: #808000; text-decoration-color: #808000\">C:\\Users\\fabia\\anaconda3\\envs\\glacier\\lib\\site-packages\\kedro\\framework\\session\\session.py</span>:<span style=\"color: #0000ff; text-decoration-color: #0000ff\">343</span>   <span style=\"color: #800000; text-decoration-color: #800000\">│</span>\n<span style=\"color: #800000; text-decoration-color: #800000\">│</span> in <span style=\"color: #00ff00; text-decoration-color: #00ff00\">run</span>                                                                                           <span style=\"color: #800000; text-decoration-color: #800000\">│</span>\n<span style=\"color: #800000; text-decoration-color: #800000\">╰──────────────────────────────────────────────────────────────────────────────────────────────────╯</span>\n<span style=\"color: #ff0000; text-decoration-color: #ff0000; font-weight: bold\">KedroSessionError: </span>A run has already been completed as part of the active KedroSession. KedroSession has a <span style=\"color: #008080; text-decoration-color: #008080; font-weight: bold\">1</span>-<span style=\"color: #008080; text-decoration-color: #008080; font-weight: bold\">1</span> \nmapping with runs, and thus only one run should be executed per session.\n</pre>\n"
     },
     "metadata": {},
     "output_type": "display_data"
    }
   ],
   "source": [
    "%load_ext kedro.ipython\n",
    "session.run()"
   ],
   "metadata": {
    "collapsed": false
   }
  },
  {
   "cell_type": "markdown",
   "source": [
    "# Data Loading\n",
    "Loading the data from data source."
   ],
   "metadata": {
    "collapsed": false
   }
  },
  {
   "cell_type": "code",
   "execution_count": 100,
   "outputs": [
    {
     "data": {
      "text/plain": "\n\u001B[1m{\u001B[0m\n    \u001B[32m'loaded_change'\u001B[0m,\n    \u001B[32m'merged_data'\u001B[0m,\n    \u001B[32m'change'\u001B[0m,\n    \u001B[32m'mass_balance'\u001B[0m,\n    \u001B[32m'loaded_state'\u001B[0m,\n    \u001B[32m'state'\u001B[0m,\n    \u001B[32m'glacier'\u001B[0m,\n    \u001B[32m'loaded_mass_balance'\u001B[0m,\n    \u001B[32m'loaded_glacier'\u001B[0m\n\u001B[1m}\u001B[0m\n",
      "text/html": "<pre style=\"white-space:pre;overflow-x:auto;line-height:normal;font-family:Menlo,'DejaVu Sans Mono',consolas,'Courier New',monospace\">\n<span style=\"font-weight: bold\">{</span>\n    <span style=\"color: #008000; text-decoration-color: #008000\">'loaded_change'</span>,\n    <span style=\"color: #008000; text-decoration-color: #008000\">'merged_data'</span>,\n    <span style=\"color: #008000; text-decoration-color: #008000\">'change'</span>,\n    <span style=\"color: #008000; text-decoration-color: #008000\">'mass_balance'</span>,\n    <span style=\"color: #008000; text-decoration-color: #008000\">'loaded_state'</span>,\n    <span style=\"color: #008000; text-decoration-color: #008000\">'state'</span>,\n    <span style=\"color: #008000; text-decoration-color: #008000\">'glacier'</span>,\n    <span style=\"color: #008000; text-decoration-color: #008000\">'loaded_mass_balance'</span>,\n    <span style=\"color: #008000; text-decoration-color: #008000\">'loaded_glacier'</span>\n<span style=\"font-weight: bold\">}</span>\n</pre>\n"
     },
     "metadata": {},
     "output_type": "display_data"
    }
   ],
   "source": [
    "merge_data.create_pipeline().data_sets()"
   ],
   "metadata": {
    "collapsed": false
   }
  },
  {
   "cell_type": "code",
   "execution_count": 129,
   "outputs": [
    {
     "data": {
      "text/plain": "\u001B[2;36m[01/01/23 22:19:22]\u001B[0m\u001B[2;36m \u001B[0m\u001B[34mINFO    \u001B[0m Loading data from \u001B[32m'loaded_glacier'\u001B[0m \u001B[1m(\u001B[0mParquetDataSet\u001B[1m)\u001B[0m\u001B[33m...\u001B[0m             \u001B]8;id=90621;file://C:\\Users\\fabia\\anaconda3\\envs\\glacier\\lib\\site-packages\\kedro\\io\\data_catalog.py\u001B\\\u001B[2mdata_catalog.py\u001B[0m\u001B]8;;\u001B\\\u001B[2m:\u001B[0m\u001B]8;id=40270;file://C:\\Users\\fabia\\anaconda3\\envs\\glacier\\lib\\site-packages\\kedro\\io\\data_catalog.py#343\u001B\\\u001B[2m343\u001B[0m\u001B]8;;\u001B\\\n",
      "text/html": "<pre style=\"white-space:pre;overflow-x:auto;line-height:normal;font-family:Menlo,'DejaVu Sans Mono',consolas,'Courier New',monospace\"><span style=\"color: #7fbfbf; text-decoration-color: #7fbfbf\">[01/01/23 22:19:22] </span><span style=\"color: #000080; text-decoration-color: #000080\">INFO    </span> Loading data from <span style=\"color: #008000; text-decoration-color: #008000\">'loaded_glacier'</span> <span style=\"font-weight: bold\">(</span>ParquetDataSet<span style=\"font-weight: bold\">)</span><span style=\"color: #808000; text-decoration-color: #808000\">...</span>             <a href=\"file://C:\\Users\\fabia\\anaconda3\\envs\\glacier\\lib\\site-packages\\kedro\\io\\data_catalog.py\" target=\"_blank\"><span style=\"color: #7f7f7f; text-decoration-color: #7f7f7f\">data_catalog.py</span></a><span style=\"color: #7f7f7f; text-decoration-color: #7f7f7f\">:</span><a href=\"file://C:\\Users\\fabia\\anaconda3\\envs\\glacier\\lib\\site-packages\\kedro\\io\\data_catalog.py#343\" target=\"_blank\"><span style=\"color: #7f7f7f; text-decoration-color: #7f7f7f\">343</span></a>\n</pre>\n"
     },
     "metadata": {},
     "output_type": "display_data"
    },
    {
     "data": {
      "text/plain": "\u001B[2;36m                   \u001B[0m\u001B[2;36m \u001B[0m\u001B[34mINFO    \u001B[0m Loading data from \u001B[32m'loaded_change'\u001B[0m \u001B[1m(\u001B[0mParquetDataSet\u001B[1m)\u001B[0m\u001B[33m...\u001B[0m              \u001B]8;id=195254;file://C:\\Users\\fabia\\anaconda3\\envs\\glacier\\lib\\site-packages\\kedro\\io\\data_catalog.py\u001B\\\u001B[2mdata_catalog.py\u001B[0m\u001B]8;;\u001B\\\u001B[2m:\u001B[0m\u001B]8;id=304523;file://C:\\Users\\fabia\\anaconda3\\envs\\glacier\\lib\\site-packages\\kedro\\io\\data_catalog.py#343\u001B\\\u001B[2m343\u001B[0m\u001B]8;;\u001B\\\n",
      "text/html": "<pre style=\"white-space:pre;overflow-x:auto;line-height:normal;font-family:Menlo,'DejaVu Sans Mono',consolas,'Courier New',monospace\"><span style=\"color: #7fbfbf; text-decoration-color: #7fbfbf\">                    </span><span style=\"color: #000080; text-decoration-color: #000080\">INFO    </span> Loading data from <span style=\"color: #008000; text-decoration-color: #008000\">'loaded_change'</span> <span style=\"font-weight: bold\">(</span>ParquetDataSet<span style=\"font-weight: bold\">)</span><span style=\"color: #808000; text-decoration-color: #808000\">...</span>              <a href=\"file://C:\\Users\\fabia\\anaconda3\\envs\\glacier\\lib\\site-packages\\kedro\\io\\data_catalog.py\" target=\"_blank\"><span style=\"color: #7f7f7f; text-decoration-color: #7f7f7f\">data_catalog.py</span></a><span style=\"color: #7f7f7f; text-decoration-color: #7f7f7f\">:</span><a href=\"file://C:\\Users\\fabia\\anaconda3\\envs\\glacier\\lib\\site-packages\\kedro\\io\\data_catalog.py#343\" target=\"_blank\"><span style=\"color: #7f7f7f; text-decoration-color: #7f7f7f\">343</span></a>\n</pre>\n"
     },
     "metadata": {},
     "output_type": "display_data"
    },
    {
     "data": {
      "text/plain": "\u001B[2;36m                   \u001B[0m\u001B[2;36m \u001B[0m\u001B[34mINFO    \u001B[0m Loading data from \u001B[32m'loaded_mass_balance'\u001B[0m \u001B[1m(\u001B[0mParquetDataSet\u001B[1m)\u001B[0m\u001B[33m...\u001B[0m        \u001B]8;id=12774;file://C:\\Users\\fabia\\anaconda3\\envs\\glacier\\lib\\site-packages\\kedro\\io\\data_catalog.py\u001B\\\u001B[2mdata_catalog.py\u001B[0m\u001B]8;;\u001B\\\u001B[2m:\u001B[0m\u001B]8;id=736795;file://C:\\Users\\fabia\\anaconda3\\envs\\glacier\\lib\\site-packages\\kedro\\io\\data_catalog.py#343\u001B\\\u001B[2m343\u001B[0m\u001B]8;;\u001B\\\n",
      "text/html": "<pre style=\"white-space:pre;overflow-x:auto;line-height:normal;font-family:Menlo,'DejaVu Sans Mono',consolas,'Courier New',monospace\"><span style=\"color: #7fbfbf; text-decoration-color: #7fbfbf\">                    </span><span style=\"color: #000080; text-decoration-color: #000080\">INFO    </span> Loading data from <span style=\"color: #008000; text-decoration-color: #008000\">'loaded_mass_balance'</span> <span style=\"font-weight: bold\">(</span>ParquetDataSet<span style=\"font-weight: bold\">)</span><span style=\"color: #808000; text-decoration-color: #808000\">...</span>        <a href=\"file://C:\\Users\\fabia\\anaconda3\\envs\\glacier\\lib\\site-packages\\kedro\\io\\data_catalog.py\" target=\"_blank\"><span style=\"color: #7f7f7f; text-decoration-color: #7f7f7f\">data_catalog.py</span></a><span style=\"color: #7f7f7f; text-decoration-color: #7f7f7f\">:</span><a href=\"file://C:\\Users\\fabia\\anaconda3\\envs\\glacier\\lib\\site-packages\\kedro\\io\\data_catalog.py#343\" target=\"_blank\"><span style=\"color: #7f7f7f; text-decoration-color: #7f7f7f\">343</span></a>\n</pre>\n"
     },
     "metadata": {},
     "output_type": "display_data"
    },
    {
     "data": {
      "text/plain": "\u001B[2;36m                   \u001B[0m\u001B[2;36m \u001B[0m\u001B[34mINFO    \u001B[0m Loading data from \u001B[32m'loaded_state'\u001B[0m \u001B[1m(\u001B[0mParquetDataSet\u001B[1m)\u001B[0m\u001B[33m...\u001B[0m               \u001B]8;id=997053;file://C:\\Users\\fabia\\anaconda3\\envs\\glacier\\lib\\site-packages\\kedro\\io\\data_catalog.py\u001B\\\u001B[2mdata_catalog.py\u001B[0m\u001B]8;;\u001B\\\u001B[2m:\u001B[0m\u001B]8;id=147717;file://C:\\Users\\fabia\\anaconda3\\envs\\glacier\\lib\\site-packages\\kedro\\io\\data_catalog.py#343\u001B\\\u001B[2m343\u001B[0m\u001B]8;;\u001B\\\n",
      "text/html": "<pre style=\"white-space:pre;overflow-x:auto;line-height:normal;font-family:Menlo,'DejaVu Sans Mono',consolas,'Courier New',monospace\"><span style=\"color: #7fbfbf; text-decoration-color: #7fbfbf\">                    </span><span style=\"color: #000080; text-decoration-color: #000080\">INFO    </span> Loading data from <span style=\"color: #008000; text-decoration-color: #008000\">'loaded_state'</span> <span style=\"font-weight: bold\">(</span>ParquetDataSet<span style=\"font-weight: bold\">)</span><span style=\"color: #808000; text-decoration-color: #808000\">...</span>               <a href=\"file://C:\\Users\\fabia\\anaconda3\\envs\\glacier\\lib\\site-packages\\kedro\\io\\data_catalog.py\" target=\"_blank\"><span style=\"color: #7f7f7f; text-decoration-color: #7f7f7f\">data_catalog.py</span></a><span style=\"color: #7f7f7f; text-decoration-color: #7f7f7f\">:</span><a href=\"file://C:\\Users\\fabia\\anaconda3\\envs\\glacier\\lib\\site-packages\\kedro\\io\\data_catalog.py#343\" target=\"_blank\"><span style=\"color: #7f7f7f; text-decoration-color: #7f7f7f\">343</span></a>\n</pre>\n"
     },
     "metadata": {},
     "output_type": "display_data"
    }
   ],
   "source": [
    "loaded_glacier = catalog.load(\"loaded_glacier\")\n",
    "loaded_change = catalog.load(\"loaded_change\")\n",
    "loaded_mass_balance = catalog.load(\"loaded_mass_balance\")\n",
    "loaded_state = catalog.load(\"loaded_state\")"
   ],
   "metadata": {
    "collapsed": false
   }
  },
  {
   "cell_type": "code",
   "execution_count": 253,
   "outputs": [
    {
     "data": {
      "text/html": "<div>\n<style scoped>\n    .dataframe tbody tr th:only-of-type {\n        vertical-align: middle;\n    }\n\n    .dataframe tbody tr th {\n        vertical-align: top;\n    }\n\n    .dataframe thead th {\n        text-align: right;\n    }\n</style>\n<table border=\"1\" class=\"dataframe\">\n  <thead>\n    <tr style=\"text-align: right;\">\n      <th></th>\n      <th>index</th>\n      <th>AREA</th>\n    </tr>\n  </thead>\n  <tbody>\n    <tr>\n      <th>0</th>\n      <td>0</td>\n      <td>NaN</td>\n    </tr>\n    <tr>\n      <th>1</th>\n      <td>1</td>\n      <td>NaN</td>\n    </tr>\n    <tr>\n      <th>2</th>\n      <td>2</td>\n      <td>38.540001</td>\n    </tr>\n    <tr>\n      <th>3</th>\n      <td>3</td>\n      <td>38.540001</td>\n    </tr>\n    <tr>\n      <th>4</th>\n      <td>4</td>\n      <td>NaN</td>\n    </tr>\n  </tbody>\n</table>\n</div>"
     },
     "execution_count": 253,
     "metadata": {},
     "output_type": "execute_result"
    }
   ],
   "source": [
    "merged_data = loaded_glacier.merge(loaded_change, on=\"WGMS_ID\", how=\"right\")\n",
    "merged_data = merged_data.merge(loaded_state, on=[\"WGMS_ID\", \"YEAR\"], how=\"outer\")\n",
    "merged_data = merged_data.merge(loaded_mass_balance, on=[\"WGMS_ID\", \"YEAR\"], how=\"outer\")\n",
    "\n",
    "test = merged_data.groupby(\"WGMS_ID\")[\"AREA\"].ffill().reset_index()\n",
    "\n",
    "test.head()"
   ],
   "metadata": {
    "collapsed": false
   }
  },
  {
   "cell_type": "markdown",
   "source": [
    "## EDA"
   ],
   "metadata": {
    "collapsed": false
   }
  },
  {
   "cell_type": "code",
   "execution_count": null,
   "outputs": [],
   "source": [
    "import seaborn as sns\n",
    "\n",
    "# Abano Glacier\n",
    "abano = merged_data.loc[merged_data[\"WGMS_ID\"] == 767, :]\n",
    "# Adler Glacier\n",
    "adler = merged_data.loc[merged_data[\"WGMS_ID\"] == 3801, :]\n",
    "\n",
    "sns.lineplot(abano, y=\"THICKNESS_CHG\", x=\"YEAR\", title=\"ABANO\")\n",
    "sns.lineplot(adler, y=\"THICKNESS_CHG\", x=\"YEAR\", title=\"ADLER\")"
   ],
   "metadata": {
    "collapsed": false
   }
  },
  {
   "cell_type": "markdown",
   "source": [
    "## Timeseries preparation"
   ],
   "metadata": {
    "collapsed": false
   }
  },
  {
   "cell_type": "code",
   "execution_count": 155,
   "outputs": [
    {
     "data": {
      "text/plain": "\u001B[2;36m[01/01/23 23:14:11]\u001B[0m\u001B[2;36m \u001B[0m\u001B[31mWARNING \u001B[0m C:\\Users\\fabia\\anaconda3\\envs\\glacier\\lib\\site-packages\\tslearn\\utils\\ \u001B]8;id=143679;file://C:\\Users\\fabia\\anaconda3\\envs\\glacier\\lib\\warnings.py\u001B\\\u001B[2mwarnings.py\u001B[0m\u001B]8;;\u001B\\\u001B[2m:\u001B[0m\u001B]8;id=555402;file://C:\\Users\\fabia\\anaconda3\\envs\\glacier\\lib\\warnings.py#109\u001B\\\u001B[2m109\u001B[0m\u001B]8;;\u001B\\\n\u001B[2;36m                    \u001B[0m         utils.py:\u001B[1;36m149\u001B[0m: DeprecationWarning:                                      \u001B[2m               \u001B[0m\n\u001B[2;36m                    \u001B[0m                                                                                \u001B[2m               \u001B[0m\n\u001B[2;36m                    \u001B[0m         `np.float` is a deprecated alias for the builtin `float`. To silence   \u001B[2m               \u001B[0m\n\u001B[2;36m                    \u001B[0m         this warning, use `float` by itself. Doing this will not modify any    \u001B[2m               \u001B[0m\n\u001B[2;36m                    \u001B[0m         behavior and is safe. If you specifically wanted the numpy scalar      \u001B[2m               \u001B[0m\n\u001B[2;36m                    \u001B[0m         type, use `np.float64` here.                                           \u001B[2m               \u001B[0m\n\u001B[2;36m                    \u001B[0m         Deprecated in NumPy \u001B[1;36m1.20\u001B[0m; for more details and guidance:               \u001B[2m               \u001B[0m\n\u001B[2;36m                    \u001B[0m         \u001B[4;94mhttps://numpy.org/devdocs/release/1.20.0-notes.html#deprecations\u001B[0m       \u001B[2m               \u001B[0m\n\u001B[2;36m                    \u001B[0m                                                                                \u001B[2m               \u001B[0m\n\u001B[2;36m                    \u001B[0m                                                                                \u001B[2m               \u001B[0m\n",
      "text/html": "<pre style=\"white-space:pre;overflow-x:auto;line-height:normal;font-family:Menlo,'DejaVu Sans Mono',consolas,'Courier New',monospace\"><span style=\"color: #7fbfbf; text-decoration-color: #7fbfbf\">[01/01/23 23:14:11] </span><span style=\"color: #800000; text-decoration-color: #800000\">WARNING </span> C:\\Users\\fabia\\anaconda3\\envs\\glacier\\lib\\site-packages\\tslearn\\utils\\ <a href=\"file://C:\\Users\\fabia\\anaconda3\\envs\\glacier\\lib\\warnings.py\" target=\"_blank\"><span style=\"color: #7f7f7f; text-decoration-color: #7f7f7f\">warnings.py</span></a><span style=\"color: #7f7f7f; text-decoration-color: #7f7f7f\">:</span><a href=\"file://C:\\Users\\fabia\\anaconda3\\envs\\glacier\\lib\\warnings.py#109\" target=\"_blank\"><span style=\"color: #7f7f7f; text-decoration-color: #7f7f7f\">109</span></a>\n<span style=\"color: #7fbfbf; text-decoration-color: #7fbfbf\">                    </span>         utils.py:<span style=\"color: #008080; text-decoration-color: #008080; font-weight: bold\">149</span>: DeprecationWarning:                                      <span style=\"color: #7f7f7f; text-decoration-color: #7f7f7f\">               </span>\n<span style=\"color: #7fbfbf; text-decoration-color: #7fbfbf\">                    </span>                                                                                <span style=\"color: #7f7f7f; text-decoration-color: #7f7f7f\">               </span>\n<span style=\"color: #7fbfbf; text-decoration-color: #7fbfbf\">                    </span>         `np.float` is a deprecated alias for the builtin `float`. To silence   <span style=\"color: #7f7f7f; text-decoration-color: #7f7f7f\">               </span>\n<span style=\"color: #7fbfbf; text-decoration-color: #7fbfbf\">                    </span>         this warning, use `float` by itself. Doing this will not modify any    <span style=\"color: #7f7f7f; text-decoration-color: #7f7f7f\">               </span>\n<span style=\"color: #7fbfbf; text-decoration-color: #7fbfbf\">                    </span>         behavior and is safe. If you specifically wanted the numpy scalar      <span style=\"color: #7f7f7f; text-decoration-color: #7f7f7f\">               </span>\n<span style=\"color: #7fbfbf; text-decoration-color: #7fbfbf\">                    </span>         type, use `np.float64` here.                                           <span style=\"color: #7f7f7f; text-decoration-color: #7f7f7f\">               </span>\n<span style=\"color: #7fbfbf; text-decoration-color: #7fbfbf\">                    </span>         Deprecated in NumPy <span style=\"color: #008080; text-decoration-color: #008080; font-weight: bold\">1.20</span>; for more details and guidance:               <span style=\"color: #7f7f7f; text-decoration-color: #7f7f7f\">               </span>\n<span style=\"color: #7fbfbf; text-decoration-color: #7fbfbf\">                    </span>         <span style=\"color: #0000ff; text-decoration-color: #0000ff; text-decoration: underline\">https://numpy.org/devdocs/release/1.20.0-notes.html#deprecations</span>       <span style=\"color: #7f7f7f; text-decoration-color: #7f7f7f\">               </span>\n<span style=\"color: #7fbfbf; text-decoration-color: #7fbfbf\">                    </span>                                                                                <span style=\"color: #7f7f7f; text-decoration-color: #7f7f7f\">               </span>\n<span style=\"color: #7fbfbf; text-decoration-color: #7fbfbf\">                    </span>                                                                                <span style=\"color: #7f7f7f; text-decoration-color: #7f7f7f\">               </span>\n</pre>\n"
     },
     "metadata": {},
     "output_type": "display_data"
    }
   ],
   "source": [
    "from tslearn.utils import to_time_series_dataset\n",
    "\n",
    "# timeseries = to_time_series_dataset([i.t for i in merged_data.iterrows()])\n",
    "\n",
    "features = [\"AREA_CHANGE\", \"THICKNESS_CHG\", \"VOLUME_CHANGE\"]\n",
    "\n",
    "x = merged_data.WGMS_ID.factorize()[0]\n",
    "y = merged_data.groupby(x).cumcount().values\n",
    "vals = merged_data.loc[:, features].values\n",
    "out_shp = (x.max()+1, y.max()+1, vals.shape[1])\n",
    "out = np.full(out_shp, np.nan)\n",
    "out[x,y] = vals\n",
    "\n",
    "timeseries = to_time_series_dataset(out)"
   ],
   "metadata": {
    "collapsed": false
   }
  },
  {
   "cell_type": "code",
   "execution_count": 156,
   "outputs": [
    {
     "data": {
      "text/plain": "\u001B[1m(\u001B[0m\u001B[1;36m213778\u001B[0m, \u001B[1;36m19\u001B[0m, \u001B[1;36m3\u001B[0m\u001B[1m)\u001B[0m\n",
      "text/html": "<pre style=\"white-space:pre;overflow-x:auto;line-height:normal;font-family:Menlo,'DejaVu Sans Mono',consolas,'Courier New',monospace\"><span style=\"font-weight: bold\">(</span><span style=\"color: #008080; text-decoration-color: #008080; font-weight: bold\">213778</span>, <span style=\"color: #008080; text-decoration-color: #008080; font-weight: bold\">19</span>, <span style=\"color: #008080; text-decoration-color: #008080; font-weight: bold\">3</span><span style=\"font-weight: bold\">)</span>\n</pre>\n"
     },
     "metadata": {},
     "output_type": "display_data"
    }
   ],
   "source": [
    "timeseries.shape"
   ],
   "metadata": {
    "collapsed": false
   }
  },
  {
   "cell_type": "code",
   "execution_count": 254,
   "outputs": [],
   "source": [
    "t = None\n",
    "\n",
    "for series in timeseries:\n",
    "    mask = []\n",
    "    for year in series:\n",
    "        mask.append(np.isnan(year).all())\n",
    "    if not all(mask):\n",
    "        if t is None:\n",
    "            t = [series]\n",
    "        else:\n",
    "            t = np.concatenate((t, [series]), axis=0)"
   ],
   "metadata": {
    "collapsed": false
   }
  },
  {
   "cell_type": "code",
   "execution_count": 255,
   "outputs": [
    {
     "data": {
      "text/plain": "\u001B[1m(\u001B[0m\u001B[1;36m210372\u001B[0m, \u001B[1;36m19\u001B[0m, \u001B[1;36m3\u001B[0m\u001B[1m)\u001B[0m\n",
      "text/html": "<pre style=\"white-space:pre;overflow-x:auto;line-height:normal;font-family:Menlo,'DejaVu Sans Mono',consolas,'Courier New',monospace\"><span style=\"font-weight: bold\">(</span><span style=\"color: #008080; text-decoration-color: #008080; font-weight: bold\">210372</span>, <span style=\"color: #008080; text-decoration-color: #008080; font-weight: bold\">19</span>, <span style=\"color: #008080; text-decoration-color: #008080; font-weight: bold\">3</span><span style=\"font-weight: bold\">)</span>\n</pre>\n"
     },
     "metadata": {},
     "output_type": "display_data"
    }
   ],
   "source": [
    "t.shape"
   ],
   "metadata": {
    "collapsed": false
   }
  },
  {
   "cell_type": "code",
   "execution_count": 256,
   "outputs": [
    {
     "data": {
      "text/plain": "\u001B[2;36m[01/02/23 14:19:39]\u001B[0m\u001B[2;36m \u001B[0m\u001B[31mWARNING \u001B[0m C:\\Users\\fabia\\anaconda3\\envs\\glacier\\lib\\site-packages\\tslearn\\utils\\ \u001B]8;id=954737;file://C:\\Users\\fabia\\anaconda3\\envs\\glacier\\lib\\warnings.py\u001B\\\u001B[2mwarnings.py\u001B[0m\u001B]8;;\u001B\\\u001B[2m:\u001B[0m\u001B]8;id=40242;file://C:\\Users\\fabia\\anaconda3\\envs\\glacier\\lib\\warnings.py#109\u001B\\\u001B[2m109\u001B[0m\u001B]8;;\u001B\\\n\u001B[2;36m                    \u001B[0m         utils.py:\u001B[1;36m149\u001B[0m: DeprecationWarning:                                      \u001B[2m               \u001B[0m\n\u001B[2;36m                    \u001B[0m                                                                                \u001B[2m               \u001B[0m\n\u001B[2;36m                    \u001B[0m         `np.float` is a deprecated alias for the builtin `float`. To silence   \u001B[2m               \u001B[0m\n\u001B[2;36m                    \u001B[0m         this warning, use `float` by itself. Doing this will not modify any    \u001B[2m               \u001B[0m\n\u001B[2;36m                    \u001B[0m         behavior and is safe. If you specifically wanted the numpy scalar      \u001B[2m               \u001B[0m\n\u001B[2;36m                    \u001B[0m         type, use `np.float64` here.                                           \u001B[2m               \u001B[0m\n\u001B[2;36m                    \u001B[0m         Deprecated in NumPy \u001B[1;36m1.20\u001B[0m; for more details and guidance:               \u001B[2m               \u001B[0m\n\u001B[2;36m                    \u001B[0m         \u001B[4;94mhttps://numpy.org/devdocs/release/1.20.0-notes.html#deprecations\u001B[0m       \u001B[2m               \u001B[0m\n\u001B[2;36m                    \u001B[0m                                                                                \u001B[2m               \u001B[0m\n\u001B[2;36m                    \u001B[0m                                                                                \u001B[2m               \u001B[0m\n",
      "text/html": "<pre style=\"white-space:pre;overflow-x:auto;line-height:normal;font-family:Menlo,'DejaVu Sans Mono',consolas,'Courier New',monospace\"><span style=\"color: #7fbfbf; text-decoration-color: #7fbfbf\">[01/02/23 14:19:39] </span><span style=\"color: #800000; text-decoration-color: #800000\">WARNING </span> C:\\Users\\fabia\\anaconda3\\envs\\glacier\\lib\\site-packages\\tslearn\\utils\\ <a href=\"file://C:\\Users\\fabia\\anaconda3\\envs\\glacier\\lib\\warnings.py\" target=\"_blank\"><span style=\"color: #7f7f7f; text-decoration-color: #7f7f7f\">warnings.py</span></a><span style=\"color: #7f7f7f; text-decoration-color: #7f7f7f\">:</span><a href=\"file://C:\\Users\\fabia\\anaconda3\\envs\\glacier\\lib\\warnings.py#109\" target=\"_blank\"><span style=\"color: #7f7f7f; text-decoration-color: #7f7f7f\">109</span></a>\n<span style=\"color: #7fbfbf; text-decoration-color: #7fbfbf\">                    </span>         utils.py:<span style=\"color: #008080; text-decoration-color: #008080; font-weight: bold\">149</span>: DeprecationWarning:                                      <span style=\"color: #7f7f7f; text-decoration-color: #7f7f7f\">               </span>\n<span style=\"color: #7fbfbf; text-decoration-color: #7fbfbf\">                    </span>                                                                                <span style=\"color: #7f7f7f; text-decoration-color: #7f7f7f\">               </span>\n<span style=\"color: #7fbfbf; text-decoration-color: #7fbfbf\">                    </span>         `np.float` is a deprecated alias for the builtin `float`. To silence   <span style=\"color: #7f7f7f; text-decoration-color: #7f7f7f\">               </span>\n<span style=\"color: #7fbfbf; text-decoration-color: #7fbfbf\">                    </span>         this warning, use `float` by itself. Doing this will not modify any    <span style=\"color: #7f7f7f; text-decoration-color: #7f7f7f\">               </span>\n<span style=\"color: #7fbfbf; text-decoration-color: #7fbfbf\">                    </span>         behavior and is safe. If you specifically wanted the numpy scalar      <span style=\"color: #7f7f7f; text-decoration-color: #7f7f7f\">               </span>\n<span style=\"color: #7fbfbf; text-decoration-color: #7fbfbf\">                    </span>         type, use `np.float64` here.                                           <span style=\"color: #7f7f7f; text-decoration-color: #7f7f7f\">               </span>\n<span style=\"color: #7fbfbf; text-decoration-color: #7fbfbf\">                    </span>         Deprecated in NumPy <span style=\"color: #008080; text-decoration-color: #008080; font-weight: bold\">1.20</span>; for more details and guidance:               <span style=\"color: #7f7f7f; text-decoration-color: #7f7f7f\">               </span>\n<span style=\"color: #7fbfbf; text-decoration-color: #7fbfbf\">                    </span>         <span style=\"color: #0000ff; text-decoration-color: #0000ff; text-decoration: underline\">https://numpy.org/devdocs/release/1.20.0-notes.html#deprecations</span>       <span style=\"color: #7f7f7f; text-decoration-color: #7f7f7f\">               </span>\n<span style=\"color: #7fbfbf; text-decoration-color: #7fbfbf\">                    </span>                                                                                <span style=\"color: #7f7f7f; text-decoration-color: #7f7f7f\">               </span>\n<span style=\"color: #7fbfbf; text-decoration-color: #7fbfbf\">                    </span>                                                                                <span style=\"color: #7f7f7f; text-decoration-color: #7f7f7f\">               </span>\n</pre>\n"
     },
     "metadata": {},
     "output_type": "display_data"
    },
    {
     "name": "stderr",
     "output_type": "stream",
     "text": [
      "[Parallel(n_jobs=1)]: Using backend SequentialBackend with 1 concurrent workers.\n",
      "[Parallel(n_jobs=1)]: Done 210372 out of 210372 | elapsed:  1.3min finished\n",
      "[Parallel(n_jobs=1)]: Using backend SequentialBackend with 1 concurrent workers.\n",
      "[Parallel(n_jobs=1)]: Done 631116 out of 631116 | elapsed:  8.6min finished\n",
      "[Parallel(n_jobs=1)]: Using backend SequentialBackend with 1 concurrent workers.\n",
      "[Parallel(n_jobs=1)]: Done 631116 out of 631116 | elapsed:  8.8min finished\n",
      "[Parallel(n_jobs=1)]: Using backend SequentialBackend with 1 concurrent workers.\n",
      "[Parallel(n_jobs=1)]: Done 631116 out of 631116 | elapsed:  8.6min finished\n"
     ]
    },
    {
     "name": "stdout",
     "output_type": "stream",
     "text": [
      "2888192364913.271 --> "
     ]
    },
    {
     "data": {
      "text/plain": "\u001B[2;36m[01/02/23 14:59:06]\u001B[0m\u001B[2;36m \u001B[0m\u001B[31mWARNING \u001B[0m C:\\Users\\fabia\\anaconda3\\envs\\glacier\\lib\\site-packages\\tslearn\\baryce \u001B]8;id=805365;file://C:\\Users\\fabia\\anaconda3\\envs\\glacier\\lib\\warnings.py\u001B\\\u001B[2mwarnings.py\u001B[0m\u001B]8;;\u001B\\\u001B[2m:\u001B[0m\u001B]8;id=603264;file://C:\\Users\\fabia\\anaconda3\\envs\\glacier\\lib\\warnings.py#109\u001B\\\u001B[2m109\u001B[0m\u001B]8;;\u001B\\\n\u001B[2;36m                    \u001B[0m         nters\\dba.py:\u001B[1;36m599\u001B[0m: ConvergenceWarning:                                  \u001B[2m               \u001B[0m\n\u001B[2;36m                    \u001B[0m                                                                                \u001B[2m               \u001B[0m\n\u001B[2;36m                    \u001B[0m         DBA loss is increasing while it should not be. Stopping optimization.  \u001B[2m               \u001B[0m\n\u001B[2;36m                    \u001B[0m                                                                                \u001B[2m               \u001B[0m\n\u001B[2;36m                    \u001B[0m                                                                                \u001B[2m               \u001B[0m\n",
      "text/html": "<pre style=\"white-space:pre;overflow-x:auto;line-height:normal;font-family:Menlo,'DejaVu Sans Mono',consolas,'Courier New',monospace\"><span style=\"color: #7fbfbf; text-decoration-color: #7fbfbf\">[01/02/23 14:59:06] </span><span style=\"color: #800000; text-decoration-color: #800000\">WARNING </span> C:\\Users\\fabia\\anaconda3\\envs\\glacier\\lib\\site-packages\\tslearn\\baryce <a href=\"file://C:\\Users\\fabia\\anaconda3\\envs\\glacier\\lib\\warnings.py\" target=\"_blank\"><span style=\"color: #7f7f7f; text-decoration-color: #7f7f7f\">warnings.py</span></a><span style=\"color: #7f7f7f; text-decoration-color: #7f7f7f\">:</span><a href=\"file://C:\\Users\\fabia\\anaconda3\\envs\\glacier\\lib\\warnings.py#109\" target=\"_blank\"><span style=\"color: #7f7f7f; text-decoration-color: #7f7f7f\">109</span></a>\n<span style=\"color: #7fbfbf; text-decoration-color: #7fbfbf\">                    </span>         nters\\dba.py:<span style=\"color: #008080; text-decoration-color: #008080; font-weight: bold\">599</span>: ConvergenceWarning:                                  <span style=\"color: #7f7f7f; text-decoration-color: #7f7f7f\">               </span>\n<span style=\"color: #7fbfbf; text-decoration-color: #7fbfbf\">                    </span>                                                                                <span style=\"color: #7f7f7f; text-decoration-color: #7f7f7f\">               </span>\n<span style=\"color: #7fbfbf; text-decoration-color: #7fbfbf\">                    </span>         DBA loss is increasing while it should not be. Stopping optimization.  <span style=\"color: #7f7f7f; text-decoration-color: #7f7f7f\">               </span>\n<span style=\"color: #7fbfbf; text-decoration-color: #7fbfbf\">                    </span>                                                                                <span style=\"color: #7f7f7f; text-decoration-color: #7f7f7f\">               </span>\n<span style=\"color: #7fbfbf; text-decoration-color: #7fbfbf\">                    </span>                                                                                <span style=\"color: #7f7f7f; text-decoration-color: #7f7f7f\">               </span>\n</pre>\n"
     },
     "metadata": {},
     "output_type": "display_data"
    },
    {
     "name": "stderr",
     "output_type": "stream",
     "text": [
      "[Parallel(n_jobs=1)]: Using backend SequentialBackend with 1 concurrent workers.\n",
      "[Parallel(n_jobs=1)]: Done 631116 out of 631116 | elapsed:  8.1min finished\n"
     ]
    },
    {
     "name": "stdout",
     "output_type": "stream",
     "text": [
      "2133565034972.906 --> "
     ]
    },
    {
     "name": "stderr",
     "output_type": "stream",
     "text": [
      "[Parallel(n_jobs=1)]: Using backend SequentialBackend with 1 concurrent workers.\n",
      "[Parallel(n_jobs=1)]: Done 631116 out of 631116 | elapsed:  8.0min finished\n"
     ]
    },
    {
     "name": "stdout",
     "output_type": "stream",
     "text": [
      "1950077974556.616 --> "
     ]
    },
    {
     "name": "stderr",
     "output_type": "stream",
     "text": [
      "[Parallel(n_jobs=1)]: Using backend SequentialBackend with 1 concurrent workers.\n",
      "[Parallel(n_jobs=1)]: Done 631116 out of 631116 | elapsed:  8.7min finished\n"
     ]
    },
    {
     "name": "stdout",
     "output_type": "stream",
     "text": [
      "1908913744860.854 --> "
     ]
    },
    {
     "name": "stderr",
     "output_type": "stream",
     "text": [
      "[Parallel(n_jobs=1)]: Using backend SequentialBackend with 1 concurrent workers.\n",
      "[Parallel(n_jobs=1)]: Done 631116 out of 631116 | elapsed:  8.4min finished\n"
     ]
    },
    {
     "name": "stdout",
     "output_type": "stream",
     "text": [
      "1902591863737.505 --> "
     ]
    },
    {
     "name": "stderr",
     "output_type": "stream",
     "text": [
      "[Parallel(n_jobs=1)]: Using backend SequentialBackend with 1 concurrent workers.\n",
      "[Parallel(n_jobs=1)]: Done 631116 out of 631116 | elapsed:  8.5min finished\n"
     ]
    },
    {
     "name": "stdout",
     "output_type": "stream",
     "text": [
      "1901191390525.599 --> "
     ]
    },
    {
     "name": "stderr",
     "output_type": "stream",
     "text": [
      "[Parallel(n_jobs=1)]: Using backend SequentialBackend with 1 concurrent workers.\n",
      "[Parallel(n_jobs=1)]: Done 631116 out of 631116 | elapsed:  8.4min finished\n"
     ]
    },
    {
     "name": "stdout",
     "output_type": "stream",
     "text": [
      "1896341305658.529 --> "
     ]
    },
    {
     "name": "stderr",
     "output_type": "stream",
     "text": [
      "[Parallel(n_jobs=1)]: Using backend SequentialBackend with 1 concurrent workers.\n",
      "[Parallel(n_jobs=1)]: Done 631116 out of 631116 | elapsed:  8.4min finished\n"
     ]
    },
    {
     "name": "stdout",
     "output_type": "stream",
     "text": [
      "1877559141775.924 --> "
     ]
    },
    {
     "name": "stderr",
     "output_type": "stream",
     "text": [
      "[Parallel(n_jobs=1)]: Using backend SequentialBackend with 1 concurrent workers.\n",
      "[Parallel(n_jobs=1)]: Done 631116 out of 631116 | elapsed:  7.6min finished\n"
     ]
    },
    {
     "name": "stdout",
     "output_type": "stream",
     "text": [
      "1873678278567.194 --> "
     ]
    },
    {
     "name": "stderr",
     "output_type": "stream",
     "text": [
      "[Parallel(n_jobs=1)]: Using backend SequentialBackend with 1 concurrent workers.\n",
      "[Parallel(n_jobs=1)]: Done 631116 out of 631116 | elapsed:  8.5min finished\n"
     ]
    },
    {
     "name": "stdout",
     "output_type": "stream",
     "text": [
      "1873040049062.329 --> "
     ]
    },
    {
     "name": "stderr",
     "output_type": "stream",
     "text": [
      "[Parallel(n_jobs=1)]: Using backend SequentialBackend with 1 concurrent workers.\n",
      "[Parallel(n_jobs=1)]: Done 631116 out of 631116 | elapsed:  7.4min finished\n"
     ]
    },
    {
     "name": "stdout",
     "output_type": "stream",
     "text": [
      "1872721704525.356 --> "
     ]
    },
    {
     "data": {
      "text/plain": "\u001B[31m╭─\u001B[0m\u001B[31m──────────────────────────────\u001B[0m\u001B[31m \u001B[0m\u001B[1;31mTraceback \u001B[0m\u001B[1;2;31m(most recent call last)\u001B[0m\u001B[31m \u001B[0m\u001B[31m───────────────────────────────\u001B[0m\u001B[31m─╮\u001B[0m\n\u001B[31m│\u001B[0m \u001B[33mC:\\Users\\fabia\\AppData\\Local\\Temp\\ipykernel_40356\\449604934.py\u001B[0m:\u001B[94m12\u001B[0m in \u001B[92m<cell line: 12>\u001B[0m             \u001B[31m│\u001B[0m\n\u001B[31m│\u001B[0m                                                                                                  \u001B[31m│\u001B[0m\n\u001B[31m│\u001B[0m \u001B[3;31m[Errno 2] No such file or directory: \u001B[0m                                                            \u001B[31m│\u001B[0m\n\u001B[31m│\u001B[0m \u001B[3;31m'C:\\\\Users\\\\fabia\\\\AppData\\\\Local\\\\Temp\\\\ipykernel_40356\\\\449604934.py'\u001B[0m                          \u001B[31m│\u001B[0m\n\u001B[31m│\u001B[0m                                                                                                  \u001B[31m│\u001B[0m\n\u001B[31m│\u001B[0m \u001B[33mC:\\Users\\fabia\\anaconda3\\envs\\glacier\\lib\\site-packages\\tslearn\\clustering\\kmeans.py\u001B[0m:\u001B[94m813\u001B[0m in      \u001B[31m│\u001B[0m\n\u001B[31m│\u001B[0m \u001B[92mfit_predict\u001B[0m                                                                                      \u001B[31m│\u001B[0m\n\u001B[31m│\u001B[0m                                                                                                  \u001B[31m│\u001B[0m\n\u001B[31m│\u001B[0m \u001B[33mC:\\Users\\fabia\\anaconda3\\envs\\glacier\\lib\\site-packages\\tslearn\\clustering\\kmeans.py\u001B[0m:\u001B[94m780\u001B[0m in \u001B[92mfit\u001B[0m  \u001B[31m│\u001B[0m\n\u001B[31m│\u001B[0m                                                                                                  \u001B[31m│\u001B[0m\n\u001B[31m│\u001B[0m \u001B[33mC:\\Users\\fabia\\anaconda3\\envs\\glacier\\lib\\site-packages\\tslearn\\clustering\\kmeans.py\u001B[0m:\u001B[94m665\u001B[0m in      \u001B[31m│\u001B[0m\n\u001B[31m│\u001B[0m \u001B[92m_fit_one_init\u001B[0m                                                                                    \u001B[31m│\u001B[0m\n\u001B[31m│\u001B[0m                                                                                                  \u001B[31m│\u001B[0m\n\u001B[31m│\u001B[0m \u001B[33mC:\\Users\\fabia\\anaconda3\\envs\\glacier\\lib\\site-packages\\tslearn\\clustering\\kmeans.py\u001B[0m:\u001B[94m713\u001B[0m in      \u001B[31m│\u001B[0m\n\u001B[31m│\u001B[0m \u001B[92m_update_centroids\u001B[0m                                                                                \u001B[31m│\u001B[0m\n\u001B[31m│\u001B[0m                                                                                                  \u001B[31m│\u001B[0m\n\u001B[31m│\u001B[0m \u001B[33mC:\\Users\\fabia\\anaconda3\\envs\\glacier\\lib\\site-packages\\tslearn\\barycenters\\dba.py\u001B[0m:\u001B[94m498\u001B[0m in        \u001B[31m│\u001B[0m\n\u001B[31m│\u001B[0m \u001B[92mdtw_barycenter_averaging\u001B[0m                                                                         \u001B[31m│\u001B[0m\n\u001B[31m│\u001B[0m                                                                                                  \u001B[31m│\u001B[0m\n\u001B[31m│\u001B[0m \u001B[33mC:\\Users\\fabia\\anaconda3\\envs\\glacier\\lib\\site-packages\\tslearn\\barycenters\\dba.py\u001B[0m:\u001B[94m579\u001B[0m in        \u001B[31m│\u001B[0m\n\u001B[31m│\u001B[0m \u001B[92mdtw_barycenter_averaging_one_init\u001B[0m                                                                \u001B[31m│\u001B[0m\n\u001B[31m│\u001B[0m                                                                                                  \u001B[31m│\u001B[0m\n\u001B[31m│\u001B[0m \u001B[33mC:\\Users\\fabia\\anaconda3\\envs\\glacier\\lib\\site-packages\\tslearn\\utils\\utils.py\u001B[0m:\u001B[94m209\u001B[0m in            \u001B[31m│\u001B[0m\n\u001B[31m│\u001B[0m \u001B[92mto_time_series_dataset\u001B[0m                                                                           \u001B[31m│\u001B[0m\n\u001B[31m│\u001B[0m                                                                                                  \u001B[31m│\u001B[0m\n\u001B[31m│\u001B[0m \u001B[33mC:\\Users\\fabia\\anaconda3\\envs\\glacier\\lib\\site-packages\\tslearn\\utils\\utils.py\u001B[0m:\u001B[94m209\u001B[0m in \u001B[92m<listcomp>\u001B[0m \u001B[31m│\u001B[0m\n\u001B[31m│\u001B[0m                                                                                                  \u001B[31m│\u001B[0m\n\u001B[31m│\u001B[0m \u001B[33mC:\\Users\\fabia\\anaconda3\\envs\\glacier\\lib\\site-packages\\tslearn\\utils\\utils.py\u001B[0m:\u001B[94m152\u001B[0m in            \u001B[31m│\u001B[0m\n\u001B[31m│\u001B[0m \u001B[92mto_time_series\u001B[0m                                                                                   \u001B[31m│\u001B[0m\n\u001B[31m│\u001B[0m                                                                                                  \u001B[31m│\u001B[0m\n\u001B[31m│\u001B[0m \u001B[33mC:\\Users\\fabia\\anaconda3\\envs\\glacier\\lib\\site-packages\\tslearn\\utils\\utils.py\u001B[0m:\u001B[94m420\u001B[0m in \u001B[92mts_size\u001B[0m    \u001B[31m│\u001B[0m\n\u001B[31m│\u001B[0m                                                                                                  \u001B[31m│\u001B[0m\n\u001B[31m│\u001B[0m \u001B[33mC:\\Users\\fabia\\anaconda3\\envs\\glacier\\lib\\site-packages\\tslearn\\utils\\utils.py\u001B[0m:\u001B[94m146\u001B[0m in            \u001B[31m│\u001B[0m\n\u001B[31m│\u001B[0m \u001B[92mto_time_series\u001B[0m                                                                                   \u001B[31m│\u001B[0m\n\u001B[31m╰──────────────────────────────────────────────────────────────────────────────────────────────────╯\u001B[0m\n\u001B[1;91mKeyboardInterrupt\u001B[0m\n",
      "text/html": "<pre style=\"white-space:pre;overflow-x:auto;line-height:normal;font-family:Menlo,'DejaVu Sans Mono',consolas,'Courier New',monospace\"><span style=\"color: #800000; text-decoration-color: #800000\">╭─────────────────────────────── </span><span style=\"color: #800000; text-decoration-color: #800000; font-weight: bold\">Traceback </span><span style=\"color: #bf7f7f; text-decoration-color: #bf7f7f; font-weight: bold\">(most recent call last)</span><span style=\"color: #800000; text-decoration-color: #800000\"> ────────────────────────────────╮</span>\n<span style=\"color: #800000; text-decoration-color: #800000\">│</span> <span style=\"color: #808000; text-decoration-color: #808000\">C:\\Users\\fabia\\AppData\\Local\\Temp\\ipykernel_40356\\449604934.py</span>:<span style=\"color: #0000ff; text-decoration-color: #0000ff\">12</span> in <span style=\"color: #00ff00; text-decoration-color: #00ff00\">&lt;cell line: 12&gt;</span>             <span style=\"color: #800000; text-decoration-color: #800000\">│</span>\n<span style=\"color: #800000; text-decoration-color: #800000\">│</span>                                                                                                  <span style=\"color: #800000; text-decoration-color: #800000\">│</span>\n<span style=\"color: #800000; text-decoration-color: #800000\">│</span> <span style=\"color: #800000; text-decoration-color: #800000; font-style: italic\">[Errno 2] No such file or directory: </span>                                                            <span style=\"color: #800000; text-decoration-color: #800000\">│</span>\n<span style=\"color: #800000; text-decoration-color: #800000\">│</span> <span style=\"color: #800000; text-decoration-color: #800000; font-style: italic\">'C:\\\\Users\\\\fabia\\\\AppData\\\\Local\\\\Temp\\\\ipykernel_40356\\\\449604934.py'</span>                          <span style=\"color: #800000; text-decoration-color: #800000\">│</span>\n<span style=\"color: #800000; text-decoration-color: #800000\">│</span>                                                                                                  <span style=\"color: #800000; text-decoration-color: #800000\">│</span>\n<span style=\"color: #800000; text-decoration-color: #800000\">│</span> <span style=\"color: #808000; text-decoration-color: #808000\">C:\\Users\\fabia\\anaconda3\\envs\\glacier\\lib\\site-packages\\tslearn\\clustering\\kmeans.py</span>:<span style=\"color: #0000ff; text-decoration-color: #0000ff\">813</span> in      <span style=\"color: #800000; text-decoration-color: #800000\">│</span>\n<span style=\"color: #800000; text-decoration-color: #800000\">│</span> <span style=\"color: #00ff00; text-decoration-color: #00ff00\">fit_predict</span>                                                                                      <span style=\"color: #800000; text-decoration-color: #800000\">│</span>\n<span style=\"color: #800000; text-decoration-color: #800000\">│</span>                                                                                                  <span style=\"color: #800000; text-decoration-color: #800000\">│</span>\n<span style=\"color: #800000; text-decoration-color: #800000\">│</span> <span style=\"color: #808000; text-decoration-color: #808000\">C:\\Users\\fabia\\anaconda3\\envs\\glacier\\lib\\site-packages\\tslearn\\clustering\\kmeans.py</span>:<span style=\"color: #0000ff; text-decoration-color: #0000ff\">780</span> in <span style=\"color: #00ff00; text-decoration-color: #00ff00\">fit</span>  <span style=\"color: #800000; text-decoration-color: #800000\">│</span>\n<span style=\"color: #800000; text-decoration-color: #800000\">│</span>                                                                                                  <span style=\"color: #800000; text-decoration-color: #800000\">│</span>\n<span style=\"color: #800000; text-decoration-color: #800000\">│</span> <span style=\"color: #808000; text-decoration-color: #808000\">C:\\Users\\fabia\\anaconda3\\envs\\glacier\\lib\\site-packages\\tslearn\\clustering\\kmeans.py</span>:<span style=\"color: #0000ff; text-decoration-color: #0000ff\">665</span> in      <span style=\"color: #800000; text-decoration-color: #800000\">│</span>\n<span style=\"color: #800000; text-decoration-color: #800000\">│</span> <span style=\"color: #00ff00; text-decoration-color: #00ff00\">_fit_one_init</span>                                                                                    <span style=\"color: #800000; text-decoration-color: #800000\">│</span>\n<span style=\"color: #800000; text-decoration-color: #800000\">│</span>                                                                                                  <span style=\"color: #800000; text-decoration-color: #800000\">│</span>\n<span style=\"color: #800000; text-decoration-color: #800000\">│</span> <span style=\"color: #808000; text-decoration-color: #808000\">C:\\Users\\fabia\\anaconda3\\envs\\glacier\\lib\\site-packages\\tslearn\\clustering\\kmeans.py</span>:<span style=\"color: #0000ff; text-decoration-color: #0000ff\">713</span> in      <span style=\"color: #800000; text-decoration-color: #800000\">│</span>\n<span style=\"color: #800000; text-decoration-color: #800000\">│</span> <span style=\"color: #00ff00; text-decoration-color: #00ff00\">_update_centroids</span>                                                                                <span style=\"color: #800000; text-decoration-color: #800000\">│</span>\n<span style=\"color: #800000; text-decoration-color: #800000\">│</span>                                                                                                  <span style=\"color: #800000; text-decoration-color: #800000\">│</span>\n<span style=\"color: #800000; text-decoration-color: #800000\">│</span> <span style=\"color: #808000; text-decoration-color: #808000\">C:\\Users\\fabia\\anaconda3\\envs\\glacier\\lib\\site-packages\\tslearn\\barycenters\\dba.py</span>:<span style=\"color: #0000ff; text-decoration-color: #0000ff\">498</span> in        <span style=\"color: #800000; text-decoration-color: #800000\">│</span>\n<span style=\"color: #800000; text-decoration-color: #800000\">│</span> <span style=\"color: #00ff00; text-decoration-color: #00ff00\">dtw_barycenter_averaging</span>                                                                         <span style=\"color: #800000; text-decoration-color: #800000\">│</span>\n<span style=\"color: #800000; text-decoration-color: #800000\">│</span>                                                                                                  <span style=\"color: #800000; text-decoration-color: #800000\">│</span>\n<span style=\"color: #800000; text-decoration-color: #800000\">│</span> <span style=\"color: #808000; text-decoration-color: #808000\">C:\\Users\\fabia\\anaconda3\\envs\\glacier\\lib\\site-packages\\tslearn\\barycenters\\dba.py</span>:<span style=\"color: #0000ff; text-decoration-color: #0000ff\">579</span> in        <span style=\"color: #800000; text-decoration-color: #800000\">│</span>\n<span style=\"color: #800000; text-decoration-color: #800000\">│</span> <span style=\"color: #00ff00; text-decoration-color: #00ff00\">dtw_barycenter_averaging_one_init</span>                                                                <span style=\"color: #800000; text-decoration-color: #800000\">│</span>\n<span style=\"color: #800000; text-decoration-color: #800000\">│</span>                                                                                                  <span style=\"color: #800000; text-decoration-color: #800000\">│</span>\n<span style=\"color: #800000; text-decoration-color: #800000\">│</span> <span style=\"color: #808000; text-decoration-color: #808000\">C:\\Users\\fabia\\anaconda3\\envs\\glacier\\lib\\site-packages\\tslearn\\utils\\utils.py</span>:<span style=\"color: #0000ff; text-decoration-color: #0000ff\">209</span> in            <span style=\"color: #800000; text-decoration-color: #800000\">│</span>\n<span style=\"color: #800000; text-decoration-color: #800000\">│</span> <span style=\"color: #00ff00; text-decoration-color: #00ff00\">to_time_series_dataset</span>                                                                           <span style=\"color: #800000; text-decoration-color: #800000\">│</span>\n<span style=\"color: #800000; text-decoration-color: #800000\">│</span>                                                                                                  <span style=\"color: #800000; text-decoration-color: #800000\">│</span>\n<span style=\"color: #800000; text-decoration-color: #800000\">│</span> <span style=\"color: #808000; text-decoration-color: #808000\">C:\\Users\\fabia\\anaconda3\\envs\\glacier\\lib\\site-packages\\tslearn\\utils\\utils.py</span>:<span style=\"color: #0000ff; text-decoration-color: #0000ff\">209</span> in <span style=\"color: #00ff00; text-decoration-color: #00ff00\">&lt;listcomp&gt;</span> <span style=\"color: #800000; text-decoration-color: #800000\">│</span>\n<span style=\"color: #800000; text-decoration-color: #800000\">│</span>                                                                                                  <span style=\"color: #800000; text-decoration-color: #800000\">│</span>\n<span style=\"color: #800000; text-decoration-color: #800000\">│</span> <span style=\"color: #808000; text-decoration-color: #808000\">C:\\Users\\fabia\\anaconda3\\envs\\glacier\\lib\\site-packages\\tslearn\\utils\\utils.py</span>:<span style=\"color: #0000ff; text-decoration-color: #0000ff\">152</span> in            <span style=\"color: #800000; text-decoration-color: #800000\">│</span>\n<span style=\"color: #800000; text-decoration-color: #800000\">│</span> <span style=\"color: #00ff00; text-decoration-color: #00ff00\">to_time_series</span>                                                                                   <span style=\"color: #800000; text-decoration-color: #800000\">│</span>\n<span style=\"color: #800000; text-decoration-color: #800000\">│</span>                                                                                                  <span style=\"color: #800000; text-decoration-color: #800000\">│</span>\n<span style=\"color: #800000; text-decoration-color: #800000\">│</span> <span style=\"color: #808000; text-decoration-color: #808000\">C:\\Users\\fabia\\anaconda3\\envs\\glacier\\lib\\site-packages\\tslearn\\utils\\utils.py</span>:<span style=\"color: #0000ff; text-decoration-color: #0000ff\">420</span> in <span style=\"color: #00ff00; text-decoration-color: #00ff00\">ts_size</span>    <span style=\"color: #800000; text-decoration-color: #800000\">│</span>\n<span style=\"color: #800000; text-decoration-color: #800000\">│</span>                                                                                                  <span style=\"color: #800000; text-decoration-color: #800000\">│</span>\n<span style=\"color: #800000; text-decoration-color: #800000\">│</span> <span style=\"color: #808000; text-decoration-color: #808000\">C:\\Users\\fabia\\anaconda3\\envs\\glacier\\lib\\site-packages\\tslearn\\utils\\utils.py</span>:<span style=\"color: #0000ff; text-decoration-color: #0000ff\">146</span> in            <span style=\"color: #800000; text-decoration-color: #800000\">│</span>\n<span style=\"color: #800000; text-decoration-color: #800000\">│</span> <span style=\"color: #00ff00; text-decoration-color: #00ff00\">to_time_series</span>                                                                                   <span style=\"color: #800000; text-decoration-color: #800000\">│</span>\n<span style=\"color: #800000; text-decoration-color: #800000\">╰──────────────────────────────────────────────────────────────────────────────────────────────────╯</span>\n<span style=\"color: #ff0000; text-decoration-color: #ff0000; font-weight: bold\">KeyboardInterrupt</span>\n</pre>\n"
     },
     "metadata": {},
     "output_type": "display_data"
    }
   ],
   "source": [
    "from tslearn.preprocessing import TimeSeriesScalerMeanVariance, TimeSeriesResampler\n",
    "from tslearn.clustering import TimeSeriesKMeans\n",
    "\n",
    "\n",
    "np.random.shuffle(timeseries)\n",
    "# Keep only 50 time series\n",
    "X_train = TimeSeriesScalerMeanVariance().fit_transform(t)\n",
    "# Make time series shorter\n",
    "#X_train = TimeSeriesResampler(sz=40).fit_transform(X_train)\n",
    "\n",
    "km = TimeSeriesKMeans(n_clusters=3, verbose=True, metric=\"dtw\", random_state=42, n_jobs=5)\n",
    "y_pred = km.fit_predict(X_train)\n",
    "y_pred"
   ],
   "metadata": {
    "collapsed": false
   }
  },
  {
   "cell_type": "code",
   "execution_count": null,
   "outputs": [],
   "source": [
    "np.unique(y_pred, return_counts=True)"
   ],
   "metadata": {
    "collapsed": false
   }
  },
  {
   "cell_type": "code",
   "execution_count": 271,
   "outputs": [
    {
     "data": {
      "text/plain": "\u001B[2;36m[01/02/23 21:15:30]\u001B[0m\u001B[2;36m \u001B[0m\u001B[34mINFO    \u001B[0m Loading data from \u001B[32m'merged_data'\u001B[0m \u001B[1m(\u001B[0mParquetDataSet\u001B[1m)\u001B[0m\u001B[33m...\u001B[0m                \u001B]8;id=173887;file://C:\\Users\\fabia\\anaconda3\\envs\\glacier\\lib\\site-packages\\kedro\\io\\data_catalog.py\u001B\\\u001B[2mdata_catalog.py\u001B[0m\u001B]8;;\u001B\\\u001B[2m:\u001B[0m\u001B]8;id=265399;file://C:\\Users\\fabia\\anaconda3\\envs\\glacier\\lib\\site-packages\\kedro\\io\\data_catalog.py#343\u001B\\\u001B[2m343\u001B[0m\u001B]8;;\u001B\\\n",
      "text/html": "<pre style=\"white-space:pre;overflow-x:auto;line-height:normal;font-family:Menlo,'DejaVu Sans Mono',consolas,'Courier New',monospace\"><span style=\"color: #7fbfbf; text-decoration-color: #7fbfbf\">[01/02/23 21:15:30] </span><span style=\"color: #000080; text-decoration-color: #000080\">INFO    </span> Loading data from <span style=\"color: #008000; text-decoration-color: #008000\">'merged_data'</span> <span style=\"font-weight: bold\">(</span>ParquetDataSet<span style=\"font-weight: bold\">)</span><span style=\"color: #808000; text-decoration-color: #808000\">...</span>                <a href=\"file://C:\\Users\\fabia\\anaconda3\\envs\\glacier\\lib\\site-packages\\kedro\\io\\data_catalog.py\" target=\"_blank\"><span style=\"color: #7f7f7f; text-decoration-color: #7f7f7f\">data_catalog.py</span></a><span style=\"color: #7f7f7f; text-decoration-color: #7f7f7f\">:</span><a href=\"file://C:\\Users\\fabia\\anaconda3\\envs\\glacier\\lib\\site-packages\\kedro\\io\\data_catalog.py#343\" target=\"_blank\"><span style=\"color: #7f7f7f; text-decoration-color: #7f7f7f\">343</span></a>\n</pre>\n"
     },
     "metadata": {},
     "output_type": "display_data"
    }
   ],
   "source": [
    "merged_data = catalog.load(\"merged_data\")"
   ],
   "metadata": {
    "collapsed": false
   }
  },
  {
   "cell_type": "code",
   "execution_count": 278,
   "outputs": [],
   "source": [
    "def to_timeseries(merged_data: pd.DataFrame) -> np.array:\n",
    "    \"\"\" Convert merged data to timeseries for each WGMS_ID.\n",
    "\n",
    "    Parameters\n",
    "    ----------\n",
    "    merged_data : pd.DataFrame\n",
    "        Merged data.\n",
    "\n",
    "    Returns\n",
    "    -------\n",
    "    np.array\n",
    "        Array of Timeseries data.\n",
    "    \"\"\"\n",
    "    features = [\"AREA_CHANGE\", \"THICKNESS_CHG\", \"VOLUME_CHANGE\", \"ANNUAL_BALANCE\", \"AREA\", \"LENGTH\", \"MEDIAN_ELEVATION\"]\n",
    "\n",
    "    merged_data.dropna(subset=features, axis=0, how='all', inplace=True)\n",
    "\n",
    "    x = merged_data.WGMS_ID.factorize()[0]\n",
    "    y = merged_data.groupby(x).cumcount().values\n",
    "    vals = merged_data.loc[:, features].values\n",
    "    out_shp = (x.max() + 1, y.max() + 1, vals.shape[1])\n",
    "    out = np.full(out_shp, np.nan)\n",
    "    out[x, y] = vals\n",
    "\n",
    "    timeseries = to_time_series_dataset(out)\n",
    "\n",
    "    return timeseries"
   ],
   "metadata": {
    "collapsed": false
   }
  },
  {
   "cell_type": "code",
   "execution_count": 279,
   "outputs": [
    {
     "name": "stdout",
     "output_type": "stream",
     "text": [
      "<bound method NDFrame.head of         WGMS_ID   LATITUDE  LONGITUDE  PRIM_CLASSIFIC  FORM  FRONTAL_CHARS  \\\n",
      "0             0  79.514600 -90.876970             5.0   1.0            5.0   \n",
      "1             0  79.514600 -90.876970             5.0   1.0            5.0   \n",
      "2             0  79.514600 -90.876970             5.0   1.0            5.0   \n",
      "3             0  79.514600 -90.876970             5.0   1.0            5.0   \n",
      "4             1  79.441582 -90.957779             6.0   5.0            0.0   \n",
      "...         ...        ...        ...             ...   ...            ...   \n",
      "882326    35232        NaN        NaN             NaN   NaN            NaN   \n",
      "882327    35232        NaN        NaN             NaN   NaN            NaN   \n",
      "882328    35232        NaN        NaN             NaN   NaN            NaN   \n",
      "882329    35232        NaN        NaN             NaN   NaN            NaN   \n",
      "882330    35232        NaN        NaN             NaN   NaN            NaN   \n",
      "\n",
      "        YEAR  AREA_CHANGE  THICKNESS_CHG  VOLUME_CHANGE       AREA  LENGTH  \\\n",
      "0       2004          0.0         -835.0       -33945.0        NaN     NaN   \n",
      "1       2009          0.0        -2855.0      -115965.0        NaN     NaN   \n",
      "2       2014          5.0      -902375.0      -622236.0  38.540001    14.0   \n",
      "3       2019          5.0      -908710.0      -879486.0        NaN     NaN   \n",
      "4       2004          0.0        -1945.0        -1395.0        NaN     NaN   \n",
      "...      ...          ...            ...            ...        ...     ...   \n",
      "882326  2007          NaN            NaN            NaN        NaN     NaN   \n",
      "882327  2008          NaN            NaN            NaN        NaN     NaN   \n",
      "882328  2011          NaN            NaN            NaN        NaN     NaN   \n",
      "882329  2015          NaN            NaN            NaN        NaN     NaN   \n",
      "882330  2016          NaN            NaN            NaN        NaN     NaN   \n",
      "\n",
      "        HIGHEST_ELEVATION  MEDIAN_ELEVATION  LOWEST_ELEVATION  WINTER_BALANCE  \\\n",
      "0                     NaN               NaN               NaN             0.0   \n",
      "1                     NaN               NaN               NaN             0.0   \n",
      "2                  1782.0               NaN              88.0             0.0   \n",
      "3                     NaN               NaN               NaN             0.0   \n",
      "4                     NaN               NaN               NaN             0.0   \n",
      "...                   ...               ...               ...             ...   \n",
      "882326                NaN               NaN               NaN             0.0   \n",
      "882327                NaN               NaN               NaN             0.0   \n",
      "882328                NaN               NaN               NaN             0.0   \n",
      "882329                NaN               NaN               NaN             0.0   \n",
      "882330                NaN               NaN               NaN             0.0   \n",
      "\n",
      "        SUMMER_BALANCE  ANNUAL_BALANCE  \n",
      "0                  0.0        -45562.0  \n",
      "1                  0.0       -148190.0  \n",
      "2                  0.0       -239971.0  \n",
      "3                  0.0       -483353.0  \n",
      "4                  0.0          -886.0  \n",
      "...                ...             ...  \n",
      "882326             0.0        -27361.0  \n",
      "882327             0.0        -26420.0  \n",
      "882328             0.0        -30867.0  \n",
      "882329             0.0       -129133.0  \n",
      "882330             0.0       -206619.0  \n",
      "\n",
      "[882331 rows x 18 columns]>\n"
     ]
    },
    {
     "data": {
      "text/plain": "\u001B[2;36m[01/02/23 21:18:24]\u001B[0m\u001B[2;36m \u001B[0m\u001B[31mWARNING \u001B[0m C:\\Users\\fabia\\anaconda3\\envs\\glacier\\lib\\site-packages\\tslearn\\utils\\ \u001B]8;id=923163;file://C:\\Users\\fabia\\anaconda3\\envs\\glacier\\lib\\warnings.py\u001B\\\u001B[2mwarnings.py\u001B[0m\u001B]8;;\u001B\\\u001B[2m:\u001B[0m\u001B]8;id=6237;file://C:\\Users\\fabia\\anaconda3\\envs\\glacier\\lib\\warnings.py#109\u001B\\\u001B[2m109\u001B[0m\u001B]8;;\u001B\\\n\u001B[2;36m                    \u001B[0m         utils.py:\u001B[1;36m149\u001B[0m: DeprecationWarning:                                      \u001B[2m               \u001B[0m\n\u001B[2;36m                    \u001B[0m                                                                                \u001B[2m               \u001B[0m\n\u001B[2;36m                    \u001B[0m         `np.float` is a deprecated alias for the builtin `float`. To silence   \u001B[2m               \u001B[0m\n\u001B[2;36m                    \u001B[0m         this warning, use `float` by itself. Doing this will not modify any    \u001B[2m               \u001B[0m\n\u001B[2;36m                    \u001B[0m         behavior and is safe. If you specifically wanted the numpy scalar      \u001B[2m               \u001B[0m\n\u001B[2;36m                    \u001B[0m         type, use `np.float64` here.                                           \u001B[2m               \u001B[0m\n\u001B[2;36m                    \u001B[0m         Deprecated in NumPy \u001B[1;36m1.20\u001B[0m; for more details and guidance:               \u001B[2m               \u001B[0m\n\u001B[2;36m                    \u001B[0m         \u001B[4;94mhttps://numpy.org/devdocs/release/1.20.0-notes.html#deprecations\u001B[0m       \u001B[2m               \u001B[0m\n\u001B[2;36m                    \u001B[0m                                                                                \u001B[2m               \u001B[0m\n\u001B[2;36m                    \u001B[0m                                                                                \u001B[2m               \u001B[0m\n",
      "text/html": "<pre style=\"white-space:pre;overflow-x:auto;line-height:normal;font-family:Menlo,'DejaVu Sans Mono',consolas,'Courier New',monospace\"><span style=\"color: #7fbfbf; text-decoration-color: #7fbfbf\">[01/02/23 21:18:24] </span><span style=\"color: #800000; text-decoration-color: #800000\">WARNING </span> C:\\Users\\fabia\\anaconda3\\envs\\glacier\\lib\\site-packages\\tslearn\\utils\\ <a href=\"file://C:\\Users\\fabia\\anaconda3\\envs\\glacier\\lib\\warnings.py\" target=\"_blank\"><span style=\"color: #7f7f7f; text-decoration-color: #7f7f7f\">warnings.py</span></a><span style=\"color: #7f7f7f; text-decoration-color: #7f7f7f\">:</span><a href=\"file://C:\\Users\\fabia\\anaconda3\\envs\\glacier\\lib\\warnings.py#109\" target=\"_blank\"><span style=\"color: #7f7f7f; text-decoration-color: #7f7f7f\">109</span></a>\n<span style=\"color: #7fbfbf; text-decoration-color: #7fbfbf\">                    </span>         utils.py:<span style=\"color: #008080; text-decoration-color: #008080; font-weight: bold\">149</span>: DeprecationWarning:                                      <span style=\"color: #7f7f7f; text-decoration-color: #7f7f7f\">               </span>\n<span style=\"color: #7fbfbf; text-decoration-color: #7fbfbf\">                    </span>                                                                                <span style=\"color: #7f7f7f; text-decoration-color: #7f7f7f\">               </span>\n<span style=\"color: #7fbfbf; text-decoration-color: #7fbfbf\">                    </span>         `np.float` is a deprecated alias for the builtin `float`. To silence   <span style=\"color: #7f7f7f; text-decoration-color: #7f7f7f\">               </span>\n<span style=\"color: #7fbfbf; text-decoration-color: #7fbfbf\">                    </span>         this warning, use `float` by itself. Doing this will not modify any    <span style=\"color: #7f7f7f; text-decoration-color: #7f7f7f\">               </span>\n<span style=\"color: #7fbfbf; text-decoration-color: #7fbfbf\">                    </span>         behavior and is safe. If you specifically wanted the numpy scalar      <span style=\"color: #7f7f7f; text-decoration-color: #7f7f7f\">               </span>\n<span style=\"color: #7fbfbf; text-decoration-color: #7fbfbf\">                    </span>         type, use `np.float64` here.                                           <span style=\"color: #7f7f7f; text-decoration-color: #7f7f7f\">               </span>\n<span style=\"color: #7fbfbf; text-decoration-color: #7fbfbf\">                    </span>         Deprecated in NumPy <span style=\"color: #008080; text-decoration-color: #008080; font-weight: bold\">1.20</span>; for more details and guidance:               <span style=\"color: #7f7f7f; text-decoration-color: #7f7f7f\">               </span>\n<span style=\"color: #7fbfbf; text-decoration-color: #7fbfbf\">                    </span>         <span style=\"color: #0000ff; text-decoration-color: #0000ff; text-decoration: underline\">https://numpy.org/devdocs/release/1.20.0-notes.html#deprecations</span>       <span style=\"color: #7f7f7f; text-decoration-color: #7f7f7f\">               </span>\n<span style=\"color: #7fbfbf; text-decoration-color: #7fbfbf\">                    </span>                                                                                <span style=\"color: #7f7f7f; text-decoration-color: #7f7f7f\">               </span>\n<span style=\"color: #7fbfbf; text-decoration-color: #7fbfbf\">                    </span>                                                                                <span style=\"color: #7f7f7f; text-decoration-color: #7f7f7f\">               </span>\n</pre>\n"
     },
     "metadata": {},
     "output_type": "display_data"
    }
   ],
   "source": [
    "t = to_timeseries(merged_data)"
   ],
   "metadata": {
    "collapsed": false
   }
  },
  {
   "cell_type": "code",
   "execution_count": 280,
   "outputs": [
    {
     "data": {
      "text/plain": "\u001B[2;36m[01/02/23 21:19:19]\u001B[0m\u001B[2;36m \u001B[0m\u001B[31mWARNING \u001B[0m C:\\Users\\fabia\\anaconda3\\envs\\glacier\\lib\\site-packages\\tslearn\\utils\\ \u001B]8;id=838189;file://C:\\Users\\fabia\\anaconda3\\envs\\glacier\\lib\\warnings.py\u001B\\\u001B[2mwarnings.py\u001B[0m\u001B]8;;\u001B\\\u001B[2m:\u001B[0m\u001B]8;id=298581;file://C:\\Users\\fabia\\anaconda3\\envs\\glacier\\lib\\warnings.py#109\u001B\\\u001B[2m109\u001B[0m\u001B]8;;\u001B\\\n\u001B[2;36m                    \u001B[0m         utils.py:\u001B[1;36m149\u001B[0m: DeprecationWarning:                                      \u001B[2m               \u001B[0m\n\u001B[2;36m                    \u001B[0m                                                                                \u001B[2m               \u001B[0m\n\u001B[2;36m                    \u001B[0m         `np.float` is a deprecated alias for the builtin `float`. To silence   \u001B[2m               \u001B[0m\n\u001B[2;36m                    \u001B[0m         this warning, use `float` by itself. Doing this will not modify any    \u001B[2m               \u001B[0m\n\u001B[2;36m                    \u001B[0m         behavior and is safe. If you specifically wanted the numpy scalar      \u001B[2m               \u001B[0m\n\u001B[2;36m                    \u001B[0m         type, use `np.float64` here.                                           \u001B[2m               \u001B[0m\n\u001B[2;36m                    \u001B[0m         Deprecated in NumPy \u001B[1;36m1.20\u001B[0m; for more details and guidance:               \u001B[2m               \u001B[0m\n\u001B[2;36m                    \u001B[0m         \u001B[4;94mhttps://numpy.org/devdocs/release/1.20.0-notes.html#deprecations\u001B[0m       \u001B[2m               \u001B[0m\n\u001B[2;36m                    \u001B[0m                                                                                \u001B[2m               \u001B[0m\n\u001B[2;36m                    \u001B[0m                                                                                \u001B[2m               \u001B[0m\n",
      "text/html": "<pre style=\"white-space:pre;overflow-x:auto;line-height:normal;font-family:Menlo,'DejaVu Sans Mono',consolas,'Courier New',monospace\"><span style=\"color: #7fbfbf; text-decoration-color: #7fbfbf\">[01/02/23 21:19:19] </span><span style=\"color: #800000; text-decoration-color: #800000\">WARNING </span> C:\\Users\\fabia\\anaconda3\\envs\\glacier\\lib\\site-packages\\tslearn\\utils\\ <a href=\"file://C:\\Users\\fabia\\anaconda3\\envs\\glacier\\lib\\warnings.py\" target=\"_blank\"><span style=\"color: #7f7f7f; text-decoration-color: #7f7f7f\">warnings.py</span></a><span style=\"color: #7f7f7f; text-decoration-color: #7f7f7f\">:</span><a href=\"file://C:\\Users\\fabia\\anaconda3\\envs\\glacier\\lib\\warnings.py#109\" target=\"_blank\"><span style=\"color: #7f7f7f; text-decoration-color: #7f7f7f\">109</span></a>\n<span style=\"color: #7fbfbf; text-decoration-color: #7fbfbf\">                    </span>         utils.py:<span style=\"color: #008080; text-decoration-color: #008080; font-weight: bold\">149</span>: DeprecationWarning:                                      <span style=\"color: #7f7f7f; text-decoration-color: #7f7f7f\">               </span>\n<span style=\"color: #7fbfbf; text-decoration-color: #7fbfbf\">                    </span>                                                                                <span style=\"color: #7f7f7f; text-decoration-color: #7f7f7f\">               </span>\n<span style=\"color: #7fbfbf; text-decoration-color: #7fbfbf\">                    </span>         `np.float` is a deprecated alias for the builtin `float`. To silence   <span style=\"color: #7f7f7f; text-decoration-color: #7f7f7f\">               </span>\n<span style=\"color: #7fbfbf; text-decoration-color: #7fbfbf\">                    </span>         this warning, use `float` by itself. Doing this will not modify any    <span style=\"color: #7f7f7f; text-decoration-color: #7f7f7f\">               </span>\n<span style=\"color: #7fbfbf; text-decoration-color: #7fbfbf\">                    </span>         behavior and is safe. If you specifically wanted the numpy scalar      <span style=\"color: #7f7f7f; text-decoration-color: #7f7f7f\">               </span>\n<span style=\"color: #7fbfbf; text-decoration-color: #7fbfbf\">                    </span>         type, use `np.float64` here.                                           <span style=\"color: #7f7f7f; text-decoration-color: #7f7f7f\">               </span>\n<span style=\"color: #7fbfbf; text-decoration-color: #7fbfbf\">                    </span>         Deprecated in NumPy <span style=\"color: #008080; text-decoration-color: #008080; font-weight: bold\">1.20</span>; for more details and guidance:               <span style=\"color: #7f7f7f; text-decoration-color: #7f7f7f\">               </span>\n<span style=\"color: #7fbfbf; text-decoration-color: #7fbfbf\">                    </span>         <span style=\"color: #0000ff; text-decoration-color: #0000ff; text-decoration: underline\">https://numpy.org/devdocs/release/1.20.0-notes.html#deprecations</span>       <span style=\"color: #7f7f7f; text-decoration-color: #7f7f7f\">               </span>\n<span style=\"color: #7fbfbf; text-decoration-color: #7fbfbf\">                    </span>                                                                                <span style=\"color: #7f7f7f; text-decoration-color: #7f7f7f\">               </span>\n<span style=\"color: #7fbfbf; text-decoration-color: #7fbfbf\">                    </span>                                                                                <span style=\"color: #7f7f7f; text-decoration-color: #7f7f7f\">               </span>\n</pre>\n"
     },
     "metadata": {},
     "output_type": "display_data"
    },
    {
     "data": {
      "text/plain": "\u001B[2;36m[01/02/23 21:20:12]\u001B[0m\u001B[2;36m \u001B[0m\u001B[31mWARNING \u001B[0m C:\\Users\\fabia\\anaconda3\\envs\\glacier\\lib\\site-packages\\tslearn\\utils\\ \u001B]8;id=608346;file://C:\\Users\\fabia\\anaconda3\\envs\\glacier\\lib\\warnings.py\u001B\\\u001B[2mwarnings.py\u001B[0m\u001B]8;;\u001B\\\u001B[2m:\u001B[0m\u001B]8;id=182706;file://C:\\Users\\fabia\\anaconda3\\envs\\glacier\\lib\\warnings.py#109\u001B\\\u001B[2m109\u001B[0m\u001B]8;;\u001B\\\n\u001B[2;36m                    \u001B[0m         utils.py:\u001B[1;36m149\u001B[0m: DeprecationWarning:                                      \u001B[2m               \u001B[0m\n\u001B[2;36m                    \u001B[0m                                                                                \u001B[2m               \u001B[0m\n\u001B[2;36m                    \u001B[0m         `np.float` is a deprecated alias for the builtin `float`. To silence   \u001B[2m               \u001B[0m\n\u001B[2;36m                    \u001B[0m         this warning, use `float` by itself. Doing this will not modify any    \u001B[2m               \u001B[0m\n\u001B[2;36m                    \u001B[0m         behavior and is safe. If you specifically wanted the numpy scalar      \u001B[2m               \u001B[0m\n\u001B[2;36m                    \u001B[0m         type, use `np.float64` here.                                           \u001B[2m               \u001B[0m\n\u001B[2;36m                    \u001B[0m         Deprecated in NumPy \u001B[1;36m1.20\u001B[0m; for more details and guidance:               \u001B[2m               \u001B[0m\n\u001B[2;36m                    \u001B[0m         \u001B[4;94mhttps://numpy.org/devdocs/release/1.20.0-notes.html#deprecations\u001B[0m       \u001B[2m               \u001B[0m\n\u001B[2;36m                    \u001B[0m                                                                                \u001B[2m               \u001B[0m\n\u001B[2;36m                    \u001B[0m                                                                                \u001B[2m               \u001B[0m\n",
      "text/html": "<pre style=\"white-space:pre;overflow-x:auto;line-height:normal;font-family:Menlo,'DejaVu Sans Mono',consolas,'Courier New',monospace\"><span style=\"color: #7fbfbf; text-decoration-color: #7fbfbf\">[01/02/23 21:20:12] </span><span style=\"color: #800000; text-decoration-color: #800000\">WARNING </span> C:\\Users\\fabia\\anaconda3\\envs\\glacier\\lib\\site-packages\\tslearn\\utils\\ <a href=\"file://C:\\Users\\fabia\\anaconda3\\envs\\glacier\\lib\\warnings.py\" target=\"_blank\"><span style=\"color: #7f7f7f; text-decoration-color: #7f7f7f\">warnings.py</span></a><span style=\"color: #7f7f7f; text-decoration-color: #7f7f7f\">:</span><a href=\"file://C:\\Users\\fabia\\anaconda3\\envs\\glacier\\lib\\warnings.py#109\" target=\"_blank\"><span style=\"color: #7f7f7f; text-decoration-color: #7f7f7f\">109</span></a>\n<span style=\"color: #7fbfbf; text-decoration-color: #7fbfbf\">                    </span>         utils.py:<span style=\"color: #008080; text-decoration-color: #008080; font-weight: bold\">149</span>: DeprecationWarning:                                      <span style=\"color: #7f7f7f; text-decoration-color: #7f7f7f\">               </span>\n<span style=\"color: #7fbfbf; text-decoration-color: #7fbfbf\">                    </span>                                                                                <span style=\"color: #7f7f7f; text-decoration-color: #7f7f7f\">               </span>\n<span style=\"color: #7fbfbf; text-decoration-color: #7fbfbf\">                    </span>         `np.float` is a deprecated alias for the builtin `float`. To silence   <span style=\"color: #7f7f7f; text-decoration-color: #7f7f7f\">               </span>\n<span style=\"color: #7fbfbf; text-decoration-color: #7fbfbf\">                    </span>         this warning, use `float` by itself. Doing this will not modify any    <span style=\"color: #7f7f7f; text-decoration-color: #7f7f7f\">               </span>\n<span style=\"color: #7fbfbf; text-decoration-color: #7fbfbf\">                    </span>         behavior and is safe. If you specifically wanted the numpy scalar      <span style=\"color: #7f7f7f; text-decoration-color: #7f7f7f\">               </span>\n<span style=\"color: #7fbfbf; text-decoration-color: #7fbfbf\">                    </span>         type, use `np.float64` here.                                           <span style=\"color: #7f7f7f; text-decoration-color: #7f7f7f\">               </span>\n<span style=\"color: #7fbfbf; text-decoration-color: #7fbfbf\">                    </span>         Deprecated in NumPy <span style=\"color: #008080; text-decoration-color: #008080; font-weight: bold\">1.20</span>; for more details and guidance:               <span style=\"color: #7f7f7f; text-decoration-color: #7f7f7f\">               </span>\n<span style=\"color: #7fbfbf; text-decoration-color: #7fbfbf\">                    </span>         <span style=\"color: #0000ff; text-decoration-color: #0000ff; text-decoration: underline\">https://numpy.org/devdocs/release/1.20.0-notes.html#deprecations</span>       <span style=\"color: #7f7f7f; text-decoration-color: #7f7f7f\">               </span>\n<span style=\"color: #7fbfbf; text-decoration-color: #7fbfbf\">                    </span>                                                                                <span style=\"color: #7f7f7f; text-decoration-color: #7f7f7f\">               </span>\n<span style=\"color: #7fbfbf; text-decoration-color: #7fbfbf\">                    </span>                                                                                <span style=\"color: #7f7f7f; text-decoration-color: #7f7f7f\">               </span>\n</pre>\n"
     },
     "metadata": {},
     "output_type": "display_data"
    },
    {
     "data": {
      "text/plain": "\u001B[2;36m[01/02/23 21:21:03]\u001B[0m\u001B[2;36m \u001B[0m\u001B[31mWARNING \u001B[0m C:\\Users\\fabia\\anaconda3\\envs\\glacier\\lib\\site-packages\\tslearn\\prepro \u001B]8;id=536960;file://C:\\Users\\fabia\\anaconda3\\envs\\glacier\\lib\\warnings.py\u001B\\\u001B[2mwarnings.py\u001B[0m\u001B]8;;\u001B\\\u001B[2m:\u001B[0m\u001B]8;id=809806;file://C:\\Users\\fabia\\anaconda3\\envs\\glacier\\lib\\warnings.py#109\u001B\\\u001B[2m109\u001B[0m\u001B]8;;\u001B\\\n\u001B[2;36m                    \u001B[0m         cessing\\preprocessing.py:\u001B[1;36m289\u001B[0m: RuntimeWarning:                          \u001B[2m               \u001B[0m\n\u001B[2;36m                    \u001B[0m                                                                                \u001B[2m               \u001B[0m\n\u001B[2;36m                    \u001B[0m         Mean of empty slice                                                    \u001B[2m               \u001B[0m\n\u001B[2;36m                    \u001B[0m                                                                                \u001B[2m               \u001B[0m\n\u001B[2;36m                    \u001B[0m                                                                                \u001B[2m               \u001B[0m\n",
      "text/html": "<pre style=\"white-space:pre;overflow-x:auto;line-height:normal;font-family:Menlo,'DejaVu Sans Mono',consolas,'Courier New',monospace\"><span style=\"color: #7fbfbf; text-decoration-color: #7fbfbf\">[01/02/23 21:21:03] </span><span style=\"color: #800000; text-decoration-color: #800000\">WARNING </span> C:\\Users\\fabia\\anaconda3\\envs\\glacier\\lib\\site-packages\\tslearn\\prepro <a href=\"file://C:\\Users\\fabia\\anaconda3\\envs\\glacier\\lib\\warnings.py\" target=\"_blank\"><span style=\"color: #7f7f7f; text-decoration-color: #7f7f7f\">warnings.py</span></a><span style=\"color: #7f7f7f; text-decoration-color: #7f7f7f\">:</span><a href=\"file://C:\\Users\\fabia\\anaconda3\\envs\\glacier\\lib\\warnings.py#109\" target=\"_blank\"><span style=\"color: #7f7f7f; text-decoration-color: #7f7f7f\">109</span></a>\n<span style=\"color: #7fbfbf; text-decoration-color: #7fbfbf\">                    </span>         cessing\\preprocessing.py:<span style=\"color: #008080; text-decoration-color: #008080; font-weight: bold\">289</span>: RuntimeWarning:                          <span style=\"color: #7f7f7f; text-decoration-color: #7f7f7f\">               </span>\n<span style=\"color: #7fbfbf; text-decoration-color: #7fbfbf\">                    </span>                                                                                <span style=\"color: #7f7f7f; text-decoration-color: #7f7f7f\">               </span>\n<span style=\"color: #7fbfbf; text-decoration-color: #7fbfbf\">                    </span>         Mean of empty slice                                                    <span style=\"color: #7f7f7f; text-decoration-color: #7f7f7f\">               </span>\n<span style=\"color: #7fbfbf; text-decoration-color: #7fbfbf\">                    </span>                                                                                <span style=\"color: #7f7f7f; text-decoration-color: #7f7f7f\">               </span>\n<span style=\"color: #7fbfbf; text-decoration-color: #7fbfbf\">                    </span>                                                                                <span style=\"color: #7f7f7f; text-decoration-color: #7f7f7f\">               </span>\n</pre>\n"
     },
     "metadata": {},
     "output_type": "display_data"
    },
    {
     "data": {
      "text/plain": "\u001B[2;36m[01/02/23 21:21:04]\u001B[0m\u001B[2;36m \u001B[0m\u001B[31mWARNING \u001B[0m C:\\Users\\fabia\\anaconda3\\envs\\glacier\\lib\\site-packages\\numpy\\lib\\nanf \u001B]8;id=116738;file://C:\\Users\\fabia\\anaconda3\\envs\\glacier\\lib\\warnings.py\u001B\\\u001B[2mwarnings.py\u001B[0m\u001B]8;;\u001B\\\u001B[2m:\u001B[0m\u001B]8;id=795512;file://C:\\Users\\fabia\\anaconda3\\envs\\glacier\\lib\\warnings.py#109\u001B\\\u001B[2m109\u001B[0m\u001B]8;;\u001B\\\n\u001B[2;36m                    \u001B[0m         unctions.py:\u001B[1;36m1878\u001B[0m: RuntimeWarning:                                      \u001B[2m               \u001B[0m\n\u001B[2;36m                    \u001B[0m                                                                                \u001B[2m               \u001B[0m\n\u001B[2;36m                    \u001B[0m         Degrees of freedom <= \u001B[1;36m0\u001B[0m for slice.                                     \u001B[2m               \u001B[0m\n\u001B[2;36m                    \u001B[0m                                                                                \u001B[2m               \u001B[0m\n\u001B[2;36m                    \u001B[0m                                                                                \u001B[2m               \u001B[0m\n",
      "text/html": "<pre style=\"white-space:pre;overflow-x:auto;line-height:normal;font-family:Menlo,'DejaVu Sans Mono',consolas,'Courier New',monospace\"><span style=\"color: #7fbfbf; text-decoration-color: #7fbfbf\">[01/02/23 21:21:04] </span><span style=\"color: #800000; text-decoration-color: #800000\">WARNING </span> C:\\Users\\fabia\\anaconda3\\envs\\glacier\\lib\\site-packages\\numpy\\lib\\nanf <a href=\"file://C:\\Users\\fabia\\anaconda3\\envs\\glacier\\lib\\warnings.py\" target=\"_blank\"><span style=\"color: #7f7f7f; text-decoration-color: #7f7f7f\">warnings.py</span></a><span style=\"color: #7f7f7f; text-decoration-color: #7f7f7f\">:</span><a href=\"file://C:\\Users\\fabia\\anaconda3\\envs\\glacier\\lib\\warnings.py#109\" target=\"_blank\"><span style=\"color: #7f7f7f; text-decoration-color: #7f7f7f\">109</span></a>\n<span style=\"color: #7fbfbf; text-decoration-color: #7fbfbf\">                    </span>         unctions.py:<span style=\"color: #008080; text-decoration-color: #008080; font-weight: bold\">1878</span>: RuntimeWarning:                                      <span style=\"color: #7f7f7f; text-decoration-color: #7f7f7f\">               </span>\n<span style=\"color: #7fbfbf; text-decoration-color: #7fbfbf\">                    </span>                                                                                <span style=\"color: #7f7f7f; text-decoration-color: #7f7f7f\">               </span>\n<span style=\"color: #7fbfbf; text-decoration-color: #7fbfbf\">                    </span>         Degrees of freedom &lt;= <span style=\"color: #008080; text-decoration-color: #008080; font-weight: bold\">0</span> for slice.                                     <span style=\"color: #7f7f7f; text-decoration-color: #7f7f7f\">               </span>\n<span style=\"color: #7fbfbf; text-decoration-color: #7fbfbf\">                    </span>                                                                                <span style=\"color: #7f7f7f; text-decoration-color: #7f7f7f\">               </span>\n<span style=\"color: #7fbfbf; text-decoration-color: #7fbfbf\">                    </span>                                                                                <span style=\"color: #7f7f7f; text-decoration-color: #7f7f7f\">               </span>\n</pre>\n"
     },
     "metadata": {},
     "output_type": "display_data"
    },
    {
     "data": {
      "text/plain": "\u001B[2;36m                   \u001B[0m\u001B[2;36m \u001B[0m\u001B[31mWARNING \u001B[0m C:\\Users\\fabia\\anaconda3\\envs\\glacier\\lib\\site-packages\\tslearn\\utils\\ \u001B]8;id=904234;file://C:\\Users\\fabia\\anaconda3\\envs\\glacier\\lib\\warnings.py\u001B\\\u001B[2mwarnings.py\u001B[0m\u001B]8;;\u001B\\\u001B[2m:\u001B[0m\u001B]8;id=532850;file://C:\\Users\\fabia\\anaconda3\\envs\\glacier\\lib\\warnings.py#109\u001B\\\u001B[2m109\u001B[0m\u001B]8;;\u001B\\\n\u001B[2;36m                    \u001B[0m         utils.py:\u001B[1;36m149\u001B[0m: DeprecationWarning:                                      \u001B[2m               \u001B[0m\n\u001B[2;36m                    \u001B[0m                                                                                \u001B[2m               \u001B[0m\n\u001B[2;36m                    \u001B[0m         `np.float` is a deprecated alias for the builtin `float`. To silence   \u001B[2m               \u001B[0m\n\u001B[2;36m                    \u001B[0m         this warning, use `float` by itself. Doing this will not modify any    \u001B[2m               \u001B[0m\n\u001B[2;36m                    \u001B[0m         behavior and is safe. If you specifically wanted the numpy scalar      \u001B[2m               \u001B[0m\n\u001B[2;36m                    \u001B[0m         type, use `np.float64` here.                                           \u001B[2m               \u001B[0m\n\u001B[2;36m                    \u001B[0m         Deprecated in NumPy \u001B[1;36m1.20\u001B[0m; for more details and guidance:               \u001B[2m               \u001B[0m\n\u001B[2;36m                    \u001B[0m         \u001B[4;94mhttps://numpy.org/devdocs/release/1.20.0-notes.html#deprecations\u001B[0m       \u001B[2m               \u001B[0m\n\u001B[2;36m                    \u001B[0m                                                                                \u001B[2m               \u001B[0m\n\u001B[2;36m                    \u001B[0m                                                                                \u001B[2m               \u001B[0m\n",
      "text/html": "<pre style=\"white-space:pre;overflow-x:auto;line-height:normal;font-family:Menlo,'DejaVu Sans Mono',consolas,'Courier New',monospace\"><span style=\"color: #7fbfbf; text-decoration-color: #7fbfbf\">                    </span><span style=\"color: #800000; text-decoration-color: #800000\">WARNING </span> C:\\Users\\fabia\\anaconda3\\envs\\glacier\\lib\\site-packages\\tslearn\\utils\\ <a href=\"file://C:\\Users\\fabia\\anaconda3\\envs\\glacier\\lib\\warnings.py\" target=\"_blank\"><span style=\"color: #7f7f7f; text-decoration-color: #7f7f7f\">warnings.py</span></a><span style=\"color: #7f7f7f; text-decoration-color: #7f7f7f\">:</span><a href=\"file://C:\\Users\\fabia\\anaconda3\\envs\\glacier\\lib\\warnings.py#109\" target=\"_blank\"><span style=\"color: #7f7f7f; text-decoration-color: #7f7f7f\">109</span></a>\n<span style=\"color: #7fbfbf; text-decoration-color: #7fbfbf\">                    </span>         utils.py:<span style=\"color: #008080; text-decoration-color: #008080; font-weight: bold\">149</span>: DeprecationWarning:                                      <span style=\"color: #7f7f7f; text-decoration-color: #7f7f7f\">               </span>\n<span style=\"color: #7fbfbf; text-decoration-color: #7fbfbf\">                    </span>                                                                                <span style=\"color: #7f7f7f; text-decoration-color: #7f7f7f\">               </span>\n<span style=\"color: #7fbfbf; text-decoration-color: #7fbfbf\">                    </span>         `np.float` is a deprecated alias for the builtin `float`. To silence   <span style=\"color: #7f7f7f; text-decoration-color: #7f7f7f\">               </span>\n<span style=\"color: #7fbfbf; text-decoration-color: #7fbfbf\">                    </span>         this warning, use `float` by itself. Doing this will not modify any    <span style=\"color: #7f7f7f; text-decoration-color: #7f7f7f\">               </span>\n<span style=\"color: #7fbfbf; text-decoration-color: #7fbfbf\">                    </span>         behavior and is safe. If you specifically wanted the numpy scalar      <span style=\"color: #7f7f7f; text-decoration-color: #7f7f7f\">               </span>\n<span style=\"color: #7fbfbf; text-decoration-color: #7fbfbf\">                    </span>         type, use `np.float64` here.                                           <span style=\"color: #7f7f7f; text-decoration-color: #7f7f7f\">               </span>\n<span style=\"color: #7fbfbf; text-decoration-color: #7fbfbf\">                    </span>         Deprecated in NumPy <span style=\"color: #008080; text-decoration-color: #008080; font-weight: bold\">1.20</span>; for more details and guidance:               <span style=\"color: #7f7f7f; text-decoration-color: #7f7f7f\">               </span>\n<span style=\"color: #7fbfbf; text-decoration-color: #7fbfbf\">                    </span>         <span style=\"color: #0000ff; text-decoration-color: #0000ff; text-decoration: underline\">https://numpy.org/devdocs/release/1.20.0-notes.html#deprecations</span>       <span style=\"color: #7f7f7f; text-decoration-color: #7f7f7f\">               </span>\n<span style=\"color: #7fbfbf; text-decoration-color: #7fbfbf\">                    </span>                                                                                <span style=\"color: #7f7f7f; text-decoration-color: #7f7f7f\">               </span>\n<span style=\"color: #7fbfbf; text-decoration-color: #7fbfbf\">                    </span>                                                                                <span style=\"color: #7f7f7f; text-decoration-color: #7f7f7f\">               </span>\n</pre>\n"
     },
     "metadata": {},
     "output_type": "display_data"
    },
    {
     "data": {
      "text/plain": "\u001B[31m╭─\u001B[0m\u001B[31m──────────────────────────────\u001B[0m\u001B[31m \u001B[0m\u001B[1;31mTraceback \u001B[0m\u001B[1;2;31m(most recent call last)\u001B[0m\u001B[31m \u001B[0m\u001B[31m───────────────────────────────\u001B[0m\u001B[31m─╮\u001B[0m\n\u001B[31m│\u001B[0m \u001B[33mC:\\Users\\fabia\\AppData\\Local\\Temp\\ipykernel_40356\\2358582536.py\u001B[0m:\u001B[94m10\u001B[0m in \u001B[92m<cell line: 10>\u001B[0m            \u001B[31m│\u001B[0m\n\u001B[31m│\u001B[0m                                                                                                  \u001B[31m│\u001B[0m\n\u001B[31m│\u001B[0m \u001B[3;31m[Errno 2] No such file or directory: \u001B[0m                                                            \u001B[31m│\u001B[0m\n\u001B[31m│\u001B[0m \u001B[3;31m'C:\\\\Users\\\\fabia\\\\AppData\\\\Local\\\\Temp\\\\ipykernel_40356\\\\2358582536.py'\u001B[0m                         \u001B[31m│\u001B[0m\n\u001B[31m│\u001B[0m                                                                                                  \u001B[31m│\u001B[0m\n\u001B[31m│\u001B[0m \u001B[33mC:\\Users\\fabia\\anaconda3\\envs\\glacier\\lib\\site-packages\\tslearn\\clustering\\kmeans.py\u001B[0m:\u001B[94m780\u001B[0m in \u001B[92mfit\u001B[0m  \u001B[31m│\u001B[0m\n\u001B[31m│\u001B[0m                                                                                                  \u001B[31m│\u001B[0m\n\u001B[31m│\u001B[0m \u001B[33mC:\\Users\\fabia\\anaconda3\\envs\\glacier\\lib\\site-packages\\tslearn\\clustering\\kmeans.py\u001B[0m:\u001B[94m649\u001B[0m in      \u001B[31m│\u001B[0m\n\u001B[31m│\u001B[0m \u001B[92m_fit_one_init\u001B[0m                                                                                    \u001B[31m│\u001B[0m\n\u001B[31m│\u001B[0m                                                                                                  \u001B[31m│\u001B[0m\n\u001B[31m│\u001B[0m \u001B[33mC:\\Users\\fabia\\anaconda3\\envs\\glacier\\lib\\site-packages\\tslearn\\clustering\\kmeans.py\u001B[0m:\u001B[94m117\u001B[0m in      \u001B[31m│\u001B[0m\n\u001B[31m│\u001B[0m \u001B[92m_k_init_metric\u001B[0m                                                                                   \u001B[31m│\u001B[0m\n\u001B[31m│\u001B[0m                                                                                                  \u001B[31m│\u001B[0m\n\u001B[31m│\u001B[0m \u001B[33mC:\\Users\\fabia\\anaconda3\\envs\\glacier\\lib\\site-packages\\tslearn\\clustering\\kmeans.py\u001B[0m:\u001B[94m638\u001B[0m in      \u001B[31m│\u001B[0m\n\u001B[31m│\u001B[0m \u001B[92mmetric_fun\u001B[0m                                                                                       \u001B[31m│\u001B[0m\n\u001B[31m│\u001B[0m                                                                                                  \u001B[31m│\u001B[0m\n\u001B[31m│\u001B[0m \u001B[33mC:\\Users\\fabia\\anaconda3\\envs\\glacier\\lib\\site-packages\\tslearn\\metrics\\dtw_variants.py\u001B[0m:\u001B[94m1224\u001B[0m in  \u001B[31m│\u001B[0m\n\u001B[31m│\u001B[0m \u001B[92mcdist_dtw\u001B[0m                                                                                        \u001B[31m│\u001B[0m\n\u001B[31m│\u001B[0m                                                                                                  \u001B[31m│\u001B[0m\n\u001B[31m│\u001B[0m \u001B[33mC:\\Users\\fabia\\anaconda3\\envs\\glacier\\lib\\site-packages\\tslearn\\metrics\\utils.py\u001B[0m:\u001B[94m78\u001B[0m in           \u001B[31m│\u001B[0m\n\u001B[31m│\u001B[0m \u001B[92m_cdist_generic\u001B[0m                                                                                   \u001B[31m│\u001B[0m\n\u001B[31m│\u001B[0m                                                                                                  \u001B[31m│\u001B[0m\n\u001B[31m│\u001B[0m \u001B[33mC:\\Users\\fabia\\anaconda3\\envs\\glacier\\lib\\site-packages\\joblib\\parallel.py\u001B[0m:\u001B[94m1098\u001B[0m in \u001B[92m__call__\u001B[0m      \u001B[31m│\u001B[0m\n\u001B[31m│\u001B[0m                                                                                                  \u001B[31m│\u001B[0m\n\u001B[31m│\u001B[0m \u001B[33mC:\\Users\\fabia\\anaconda3\\envs\\glacier\\lib\\site-packages\\joblib\\parallel.py\u001B[0m:\u001B[94m975\u001B[0m in \u001B[92mretrieve\u001B[0m       \u001B[31m│\u001B[0m\n\u001B[31m│\u001B[0m                                                                                                  \u001B[31m│\u001B[0m\n\u001B[31m│\u001B[0m \u001B[33mC:\\Users\\fabia\\anaconda3\\envs\\glacier\\lib\\multiprocessing\\pool.py\u001B[0m:\u001B[94m768\u001B[0m in \u001B[92mget\u001B[0m                     \u001B[31m│\u001B[0m\n\u001B[31m│\u001B[0m                                                                                                  \u001B[31m│\u001B[0m\n\u001B[31m│\u001B[0m \u001B[33mC:\\Users\\fabia\\anaconda3\\envs\\glacier\\lib\\multiprocessing\\pool.py\u001B[0m:\u001B[94m765\u001B[0m in \u001B[92mwait\u001B[0m                    \u001B[31m│\u001B[0m\n\u001B[31m│\u001B[0m                                                                                                  \u001B[31m│\u001B[0m\n\u001B[31m│\u001B[0m \u001B[33mC:\\Users\\fabia\\anaconda3\\envs\\glacier\\lib\\threading.py\u001B[0m:\u001B[94m607\u001B[0m in \u001B[92mwait\u001B[0m                               \u001B[31m│\u001B[0m\n\u001B[31m│\u001B[0m                                                                                                  \u001B[31m│\u001B[0m\n\u001B[31m│\u001B[0m \u001B[33mC:\\Users\\fabia\\anaconda3\\envs\\glacier\\lib\\threading.py\u001B[0m:\u001B[94m320\u001B[0m in \u001B[92mwait\u001B[0m                               \u001B[31m│\u001B[0m\n\u001B[31m╰──────────────────────────────────────────────────────────────────────────────────────────────────╯\u001B[0m\n\u001B[1;91mKeyboardInterrupt\u001B[0m\n",
      "text/html": "<pre style=\"white-space:pre;overflow-x:auto;line-height:normal;font-family:Menlo,'DejaVu Sans Mono',consolas,'Courier New',monospace\"><span style=\"color: #800000; text-decoration-color: #800000\">╭─────────────────────────────── </span><span style=\"color: #800000; text-decoration-color: #800000; font-weight: bold\">Traceback </span><span style=\"color: #bf7f7f; text-decoration-color: #bf7f7f; font-weight: bold\">(most recent call last)</span><span style=\"color: #800000; text-decoration-color: #800000\"> ────────────────────────────────╮</span>\n<span style=\"color: #800000; text-decoration-color: #800000\">│</span> <span style=\"color: #808000; text-decoration-color: #808000\">C:\\Users\\fabia\\AppData\\Local\\Temp\\ipykernel_40356\\2358582536.py</span>:<span style=\"color: #0000ff; text-decoration-color: #0000ff\">10</span> in <span style=\"color: #00ff00; text-decoration-color: #00ff00\">&lt;cell line: 10&gt;</span>            <span style=\"color: #800000; text-decoration-color: #800000\">│</span>\n<span style=\"color: #800000; text-decoration-color: #800000\">│</span>                                                                                                  <span style=\"color: #800000; text-decoration-color: #800000\">│</span>\n<span style=\"color: #800000; text-decoration-color: #800000\">│</span> <span style=\"color: #800000; text-decoration-color: #800000; font-style: italic\">[Errno 2] No such file or directory: </span>                                                            <span style=\"color: #800000; text-decoration-color: #800000\">│</span>\n<span style=\"color: #800000; text-decoration-color: #800000\">│</span> <span style=\"color: #800000; text-decoration-color: #800000; font-style: italic\">'C:\\\\Users\\\\fabia\\\\AppData\\\\Local\\\\Temp\\\\ipykernel_40356\\\\2358582536.py'</span>                         <span style=\"color: #800000; text-decoration-color: #800000\">│</span>\n<span style=\"color: #800000; text-decoration-color: #800000\">│</span>                                                                                                  <span style=\"color: #800000; text-decoration-color: #800000\">│</span>\n<span style=\"color: #800000; text-decoration-color: #800000\">│</span> <span style=\"color: #808000; text-decoration-color: #808000\">C:\\Users\\fabia\\anaconda3\\envs\\glacier\\lib\\site-packages\\tslearn\\clustering\\kmeans.py</span>:<span style=\"color: #0000ff; text-decoration-color: #0000ff\">780</span> in <span style=\"color: #00ff00; text-decoration-color: #00ff00\">fit</span>  <span style=\"color: #800000; text-decoration-color: #800000\">│</span>\n<span style=\"color: #800000; text-decoration-color: #800000\">│</span>                                                                                                  <span style=\"color: #800000; text-decoration-color: #800000\">│</span>\n<span style=\"color: #800000; text-decoration-color: #800000\">│</span> <span style=\"color: #808000; text-decoration-color: #808000\">C:\\Users\\fabia\\anaconda3\\envs\\glacier\\lib\\site-packages\\tslearn\\clustering\\kmeans.py</span>:<span style=\"color: #0000ff; text-decoration-color: #0000ff\">649</span> in      <span style=\"color: #800000; text-decoration-color: #800000\">│</span>\n<span style=\"color: #800000; text-decoration-color: #800000\">│</span> <span style=\"color: #00ff00; text-decoration-color: #00ff00\">_fit_one_init</span>                                                                                    <span style=\"color: #800000; text-decoration-color: #800000\">│</span>\n<span style=\"color: #800000; text-decoration-color: #800000\">│</span>                                                                                                  <span style=\"color: #800000; text-decoration-color: #800000\">│</span>\n<span style=\"color: #800000; text-decoration-color: #800000\">│</span> <span style=\"color: #808000; text-decoration-color: #808000\">C:\\Users\\fabia\\anaconda3\\envs\\glacier\\lib\\site-packages\\tslearn\\clustering\\kmeans.py</span>:<span style=\"color: #0000ff; text-decoration-color: #0000ff\">117</span> in      <span style=\"color: #800000; text-decoration-color: #800000\">│</span>\n<span style=\"color: #800000; text-decoration-color: #800000\">│</span> <span style=\"color: #00ff00; text-decoration-color: #00ff00\">_k_init_metric</span>                                                                                   <span style=\"color: #800000; text-decoration-color: #800000\">│</span>\n<span style=\"color: #800000; text-decoration-color: #800000\">│</span>                                                                                                  <span style=\"color: #800000; text-decoration-color: #800000\">│</span>\n<span style=\"color: #800000; text-decoration-color: #800000\">│</span> <span style=\"color: #808000; text-decoration-color: #808000\">C:\\Users\\fabia\\anaconda3\\envs\\glacier\\lib\\site-packages\\tslearn\\clustering\\kmeans.py</span>:<span style=\"color: #0000ff; text-decoration-color: #0000ff\">638</span> in      <span style=\"color: #800000; text-decoration-color: #800000\">│</span>\n<span style=\"color: #800000; text-decoration-color: #800000\">│</span> <span style=\"color: #00ff00; text-decoration-color: #00ff00\">metric_fun</span>                                                                                       <span style=\"color: #800000; text-decoration-color: #800000\">│</span>\n<span style=\"color: #800000; text-decoration-color: #800000\">│</span>                                                                                                  <span style=\"color: #800000; text-decoration-color: #800000\">│</span>\n<span style=\"color: #800000; text-decoration-color: #800000\">│</span> <span style=\"color: #808000; text-decoration-color: #808000\">C:\\Users\\fabia\\anaconda3\\envs\\glacier\\lib\\site-packages\\tslearn\\metrics\\dtw_variants.py</span>:<span style=\"color: #0000ff; text-decoration-color: #0000ff\">1224</span> in  <span style=\"color: #800000; text-decoration-color: #800000\">│</span>\n<span style=\"color: #800000; text-decoration-color: #800000\">│</span> <span style=\"color: #00ff00; text-decoration-color: #00ff00\">cdist_dtw</span>                                                                                        <span style=\"color: #800000; text-decoration-color: #800000\">│</span>\n<span style=\"color: #800000; text-decoration-color: #800000\">│</span>                                                                                                  <span style=\"color: #800000; text-decoration-color: #800000\">│</span>\n<span style=\"color: #800000; text-decoration-color: #800000\">│</span> <span style=\"color: #808000; text-decoration-color: #808000\">C:\\Users\\fabia\\anaconda3\\envs\\glacier\\lib\\site-packages\\tslearn\\metrics\\utils.py</span>:<span style=\"color: #0000ff; text-decoration-color: #0000ff\">78</span> in           <span style=\"color: #800000; text-decoration-color: #800000\">│</span>\n<span style=\"color: #800000; text-decoration-color: #800000\">│</span> <span style=\"color: #00ff00; text-decoration-color: #00ff00\">_cdist_generic</span>                                                                                   <span style=\"color: #800000; text-decoration-color: #800000\">│</span>\n<span style=\"color: #800000; text-decoration-color: #800000\">│</span>                                                                                                  <span style=\"color: #800000; text-decoration-color: #800000\">│</span>\n<span style=\"color: #800000; text-decoration-color: #800000\">│</span> <span style=\"color: #808000; text-decoration-color: #808000\">C:\\Users\\fabia\\anaconda3\\envs\\glacier\\lib\\site-packages\\joblib\\parallel.py</span>:<span style=\"color: #0000ff; text-decoration-color: #0000ff\">1098</span> in <span style=\"color: #00ff00; text-decoration-color: #00ff00\">__call__</span>      <span style=\"color: #800000; text-decoration-color: #800000\">│</span>\n<span style=\"color: #800000; text-decoration-color: #800000\">│</span>                                                                                                  <span style=\"color: #800000; text-decoration-color: #800000\">│</span>\n<span style=\"color: #800000; text-decoration-color: #800000\">│</span> <span style=\"color: #808000; text-decoration-color: #808000\">C:\\Users\\fabia\\anaconda3\\envs\\glacier\\lib\\site-packages\\joblib\\parallel.py</span>:<span style=\"color: #0000ff; text-decoration-color: #0000ff\">975</span> in <span style=\"color: #00ff00; text-decoration-color: #00ff00\">retrieve</span>       <span style=\"color: #800000; text-decoration-color: #800000\">│</span>\n<span style=\"color: #800000; text-decoration-color: #800000\">│</span>                                                                                                  <span style=\"color: #800000; text-decoration-color: #800000\">│</span>\n<span style=\"color: #800000; text-decoration-color: #800000\">│</span> <span style=\"color: #808000; text-decoration-color: #808000\">C:\\Users\\fabia\\anaconda3\\envs\\glacier\\lib\\multiprocessing\\pool.py</span>:<span style=\"color: #0000ff; text-decoration-color: #0000ff\">768</span> in <span style=\"color: #00ff00; text-decoration-color: #00ff00\">get</span>                     <span style=\"color: #800000; text-decoration-color: #800000\">│</span>\n<span style=\"color: #800000; text-decoration-color: #800000\">│</span>                                                                                                  <span style=\"color: #800000; text-decoration-color: #800000\">│</span>\n<span style=\"color: #800000; text-decoration-color: #800000\">│</span> <span style=\"color: #808000; text-decoration-color: #808000\">C:\\Users\\fabia\\anaconda3\\envs\\glacier\\lib\\multiprocessing\\pool.py</span>:<span style=\"color: #0000ff; text-decoration-color: #0000ff\">765</span> in <span style=\"color: #00ff00; text-decoration-color: #00ff00\">wait</span>                    <span style=\"color: #800000; text-decoration-color: #800000\">│</span>\n<span style=\"color: #800000; text-decoration-color: #800000\">│</span>                                                                                                  <span style=\"color: #800000; text-decoration-color: #800000\">│</span>\n<span style=\"color: #800000; text-decoration-color: #800000\">│</span> <span style=\"color: #808000; text-decoration-color: #808000\">C:\\Users\\fabia\\anaconda3\\envs\\glacier\\lib\\threading.py</span>:<span style=\"color: #0000ff; text-decoration-color: #0000ff\">607</span> in <span style=\"color: #00ff00; text-decoration-color: #00ff00\">wait</span>                               <span style=\"color: #800000; text-decoration-color: #800000\">│</span>\n<span style=\"color: #800000; text-decoration-color: #800000\">│</span>                                                                                                  <span style=\"color: #800000; text-decoration-color: #800000\">│</span>\n<span style=\"color: #800000; text-decoration-color: #800000\">│</span> <span style=\"color: #808000; text-decoration-color: #808000\">C:\\Users\\fabia\\anaconda3\\envs\\glacier\\lib\\threading.py</span>:<span style=\"color: #0000ff; text-decoration-color: #0000ff\">320</span> in <span style=\"color: #00ff00; text-decoration-color: #00ff00\">wait</span>                               <span style=\"color: #800000; text-decoration-color: #800000\">│</span>\n<span style=\"color: #800000; text-decoration-color: #800000\">╰──────────────────────────────────────────────────────────────────────────────────────────────────╯</span>\n<span style=\"color: #ff0000; text-decoration-color: #ff0000; font-weight: bold\">KeyboardInterrupt</span>\n</pre>\n"
     },
     "metadata": {},
     "output_type": "display_data"
    }
   ],
   "source": [
    "scaler = TimeSeriesScalerMeanVariance()\n",
    "X = scaler.fit_transform(t)\n",
    "km = TimeSeriesKMeans(\n",
    "    n_clusters=3,\n",
    "    verbose=False,\n",
    "    metric=\"dtw\",\n",
    "    random_state=42,\n",
    "    n_jobs=5\n",
    ")\n",
    "km.fit(X, None)"
   ],
   "metadata": {
    "collapsed": false
   }
  },
  {
   "cell_type": "code",
   "execution_count": null,
   "outputs": [],
   "source": [],
   "metadata": {
    "collapsed": false
   }
  }
 ],
 "metadata": {
  "kernelspec": {
   "display_name": "Python 3",
   "language": "python",
   "name": "python3"
  },
  "language_info": {
   "codemirror_mode": {
    "name": "ipython",
    "version": 2
   },
   "file_extension": ".py",
   "mimetype": "text/x-python",
   "name": "python",
   "nbconvert_exporter": "python",
   "pygments_lexer": "ipython2",
   "version": "2.7.6"
  }
 },
 "nbformat": 4,
 "nbformat_minor": 0
}
